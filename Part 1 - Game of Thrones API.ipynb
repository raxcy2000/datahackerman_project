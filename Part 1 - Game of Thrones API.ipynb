{
 "cells": [
  {
   "cell_type": "markdown",
   "id": "0bf4b662",
   "metadata": {},
   "source": [
    "## DATA HACKERMAN FINAL PROJECT"
   ]
  },
  {
   "cell_type": "markdown",
   "id": "db2ed5da",
   "metadata": {},
   "source": [
    "### _API Access_"
   ]
  },
  {
   "cell_type": "markdown",
   "id": "dc8151d4",
   "metadata": {},
   "source": [
    "The API in question provides information on Game of Thrones, allowing one to access information on the **houses**, **characters** and **books**.\n",
    "\n",
    "API URL : http://anapioficeandfire.com/api/{SECTION}/{INDEX}\n",
    "\n",
    "- **SECTION** can be either 'books', 'characters', or 'houses'\n",
    "- **INDEX** is an integer to a certain entry in a section"
   ]
  },
  {
   "cell_type": "markdown",
   "id": "fa66c2cb",
   "metadata": {},
   "source": [
    "`Import necessary modules and format notebook`"
   ]
  },
  {
   "cell_type": "code",
   "execution_count": 51,
   "id": "e7545601",
   "metadata": {},
   "outputs": [
    {
     "data": {
      "text/html": [
       "<style>.container { width:100% !important; }</style>"
      ],
      "text/plain": [
       "<IPython.core.display.HTML object>"
      ]
     },
     "metadata": {},
     "output_type": "display_data"
    }
   ],
   "source": [
    "import pandas as pd\n",
    "import json\n",
    "\n",
    "import requests\n",
    "import urllib3\n",
    "\n",
    "pd.set_option(\"display.max_columns\", None)\n",
    "pd.set_option(\"display.max_rows\", None)\n",
    "pd.options.display.max_colwidth = None\n",
    "pd.set_option(\"display.float_format\", lambda x: '%.2f' % x)\n",
    "\n",
    "from IPython.display import display, HTML\n",
    "display(HTML(\"<style>.container { width:100% !important; }</style>\"))"
   ]
  },
  {
   "cell_type": "markdown",
   "id": "aff58c6a",
   "metadata": {},
   "source": [
    "`Available APIs`"
   ]
  },
  {
   "cell_type": "code",
   "execution_count": 16,
   "id": "095da245",
   "metadata": {},
   "outputs": [
    {
     "data": {
      "text/plain": [
       "{'books': 'https://anapioficeandfire.com/api/books',\n",
       " 'characters': 'https://anapioficeandfire.com/api/characters',\n",
       " 'houses': 'https://anapioficeandfire.com/api/houses'}"
      ]
     },
     "execution_count": 16,
     "metadata": {},
     "output_type": "execute_result"
    }
   ],
   "source": [
    "url_api = \"http://anapioficeandfire.com/api/\"\n",
    "apis = requests.get(url_api).json()\n",
    "apis"
   ]
  },
  {
   "cell_type": "code",
   "execution_count": 5,
   "id": "db8c66b8",
   "metadata": {},
   "outputs": [
    {
     "data": {
      "text/plain": [
       "{'Date': 'Mon, 01 May 2023 14:50:06 GMT', 'Content-Type': 'application/json; charset=utf-8', 'Transfer-Encoding': 'chunked', 'Connection': 'keep-alive', 'Vary': 'Accept-Encoding', 'Link': '<https://anapioficeandfire.com/api/characters?page=2&pageSize=10>; rel=\"next\", <https://anapioficeandfire.com/api/characters?page=1&pageSize=10>; rel=\"first\", <https://anapioficeandfire.com/api/characters?page=214&pageSize=10>; rel=\"last\"', 'X-Powered-By': 'ASP.NET', 'Cache-Control': 'max-age=2678400', 'CF-Cache-Status': 'MISS', 'Last-Modified': 'Mon, 01 May 2023 14:50:06 GMT', 'Report-To': '{\"endpoints\":[{\"url\":\"https:\\\\/\\\\/a.nel.cloudflare.com\\\\/report\\\\/v3?s=BmWhNV1ylejjFaJncFer9bVKwWUN%2B1R2U55RoHMF8fZ5wk6S9W2snaLYzIcbplzWFWMN8aYuJSNTMfp7CXIc3z7z3lD7Uxj7N4aav8lApUf6GjW%2FKWLnq5BONt%2B51819AChuUMUiZPNC6JR6R5xX1fmwL5M%3D\"}],\"group\":\"cf-nel\",\"max_age\":604800}', 'NEL': '{\"success_fraction\":0,\"report_to\":\"cf-nel\",\"max_age\":604800}', 'Server': 'cloudflare', 'CF-RAY': '7c08d5bb8c78478c-DFW', 'Content-Encoding': 'br', 'alt-svc': 'h3=\":443\"; ma=86400, h3-29=\":443\"; ma=86400'}"
      ]
     },
     "execution_count": 5,
     "metadata": {},
     "output_type": "execute_result"
    }
   ],
   "source": [
    "# response = requests.get(\"http://anapioficeandfire.com/api/characters\")\n",
    "# response.headers"
   ]
  },
  {
   "cell_type": "code",
   "execution_count": 13,
   "id": "b35c14f0",
   "metadata": {},
   "outputs": [
    {
     "name": "stdout",
     "output_type": "stream",
     "text": [
      "performing requests...\n",
      "len =  10\n",
      "performing requests...\n",
      "len =  2\n"
     ]
    }
   ],
   "source": [
    "# base_url = 'https://anapioficeandfire.com/api/books'\n",
    "# books = []\n",
    "# # The API returns 50 records per page, so we need to keep fetching until we get all records\n",
    "\n",
    "# while True:\n",
    "#     response = requests.get(base_url)\n",
    "#     if response.status_code != 200:\n",
    "#         print(\"Failed to retrieve data\")\n",
    "#         break\n",
    "#     print(\"performing requests...\")\n",
    "#     results = response.json()\n",
    "#     print(\"len = \",len(results))\n",
    "#     books.extend(results)\n",
    "#     next_url = response.headers.get(\"Link\")\n",
    "#     if not next_url or 'rel=\"next\"' not in next_url:\n",
    "#         break\n",
    "#     next_url = next_url.split(';')[0][1:-1]\n",
    "#     base_url = next_url"
   ]
  },
  {
   "cell_type": "code",
   "execution_count": 14,
   "id": "ec0255d6",
   "metadata": {},
   "outputs": [
    {
     "data": {
      "text/plain": [
       "12"
      ]
     },
     "execution_count": 14,
     "metadata": {},
     "output_type": "execute_result"
    }
   ],
   "source": [
    "len(books)"
   ]
  },
  {
   "cell_type": "markdown",
   "id": "dc520d7d",
   "metadata": {},
   "source": [
    "Result Summary Table presented below:\n",
    "\n",
    "|  S/N | Task                                      | Solution                         |\n",
    "|------|-------------------------------------------|----------------------------------|\n",
    "| (a)  | House \"House Breakstone\" Index            | 41                               |\n",
    "| (b)  | Gender Statistics (1 - 40 characters)     | Male: 26, Female: 14, Unknown: 0 |\n",
    "| (c)  | Books Access from API                     | 12 (unique books)                |\n",
    "| (d)  | \"High Septon\" book appearance             | 2 Books (indices 5/8)            |"
   ]
  },
  {
   "cell_type": "code",
   "execution_count": null,
   "id": "949729f3",
   "metadata": {},
   "outputs": [],
   "source": []
  },
  {
   "cell_type": "markdown",
   "id": "83870a51",
   "metadata": {},
   "source": [
    "## Questions"
   ]
  },
  {
   "cell_type": "markdown",
   "id": "7dcb932a",
   "metadata": {},
   "source": [
    "#### a) What index corresponds to the house \"House Breakstone\"?"
   ]
  },
  {
   "cell_type": "code",
   "execution_count": 17,
   "id": "4adf0bbf",
   "metadata": {},
   "outputs": [],
   "source": [
    "unique_house = \"House Breakstone\"\n",
    "query_param_house = {\"name\": unique_house}\n",
    "house_url = \"http://anapioficeandfire.com/api/houses\""
   ]
  },
  {
   "cell_type": "code",
   "execution_count": 18,
   "id": "b580f437",
   "metadata": {},
   "outputs": [
    {
     "data": {
      "text/plain": [
       "[{'url': 'https://anapioficeandfire.com/api/houses/41',\n",
       "  'name': 'House Breakstone',\n",
       "  'region': 'The Vale',\n",
       "  'coatOfArms': 'A red sledge',\n",
       "  'words': '',\n",
       "  'titles': [''],\n",
       "  'seats': [''],\n",
       "  'currentLord': '',\n",
       "  'heir': '',\n",
       "  'overlord': '',\n",
       "  'founded': '',\n",
       "  'founder': '',\n",
       "  'diedOut': '',\n",
       "  'ancestralWeapons': [''],\n",
       "  'cadetBranches': [],\n",
       "  'swornMembers': []}]"
      ]
     },
     "execution_count": 18,
     "metadata": {},
     "output_type": "execute_result"
    }
   ],
   "source": [
    "unique_house_result = requests.get(house_url, query_param_house).json()\n",
    "unique_house_result"
   ]
  },
  {
   "cell_type": "code",
   "execution_count": 19,
   "id": "833f7363",
   "metadata": {},
   "outputs": [],
   "source": [
    "index_of_house = unique_house_result[0][\"url\"].split(\"/\")[-1]"
   ]
  },
  {
   "cell_type": "code",
   "execution_count": 20,
   "id": "a3ed1c78",
   "metadata": {},
   "outputs": [
    {
     "data": {
      "text/plain": [
       "'41 is the index of House Breakstone'"
      ]
     },
     "execution_count": 20,
     "metadata": {},
     "output_type": "execute_result"
    }
   ],
   "source": [
    "f\"{index_of_house} is the index of {unique_house}\""
   ]
  },
  {
   "cell_type": "markdown",
   "id": "8d68ffa0",
   "metadata": {},
   "source": [
    "Result is presented below:\n",
    "\n",
    "|  S/N | Task                                      | Solution                         |\n",
    "|------|-------------------------------------------|----------------------------------|\n",
    "| (a)  | House \"House Breakstone\" Index            | 41                               |"
   ]
  },
  {
   "cell_type": "markdown",
   "id": "9ccc9e98",
   "metadata": {},
   "source": [
    "<br>"
   ]
  },
  {
   "cell_type": "markdown",
   "id": "26b8abb8",
   "metadata": {},
   "source": [
    "#### b) How many males, females and unknown genders are there in the first 40 characters? Note, index 0 does not correspond to a character, so full range is 1 - 40 both ends inclusive."
   ]
  },
  {
   "cell_type": "code",
   "execution_count": 19,
   "id": "c3294c09",
   "metadata": {},
   "outputs": [],
   "source": [
    "num_of_chars = \"40\"\n",
    "query_params_char = {\"pageSize\": num_of_chars}\n",
    "char_url = \"http://anapioficeandfire.com/api/characters\""
   ]
  },
  {
   "cell_type": "code",
   "execution_count": 20,
   "id": "7c7c7a19",
   "metadata": {},
   "outputs": [],
   "source": [
    "chars = requests.get(char_url, query_params_char).json()\n",
    "selected_chars = pd.DataFrame(chars)\n",
    "#selected_chars.head()"
   ]
  },
  {
   "cell_type": "code",
   "execution_count": 21,
   "id": "9aea23bc",
   "metadata": {},
   "outputs": [
    {
     "name": "stdout",
     "output_type": "stream",
     "text": [
      "Number of males, females and unknown genders in 40 characters are: \n"
     ]
    },
    {
     "data": {
      "text/plain": [
       "Male      26\n",
       "Female    14\n",
       "Name: gender, dtype: int64"
      ]
     },
     "execution_count": 21,
     "metadata": {},
     "output_type": "execute_result"
    }
   ],
   "source": [
    "print(f\"Number of males, females and unknown genders in {num_of_chars} characters are: \")\n",
    "selected_chars[\"gender\"].value_counts()"
   ]
  },
  {
   "cell_type": "markdown",
   "id": "a2e36a68",
   "metadata": {},
   "source": [
    "Result is presented below:\n",
    "\n",
    "|  S/N | Task                                      | Solution                         |\n",
    "|------|-------------------------------------------|----------------------------------|\n",
    "| (b)  | Gender Statistics (1 - 40 characters)     | Male: 26, Female: 14, Unknown: 0 |"
   ]
  },
  {
   "cell_type": "markdown",
   "id": "4a003d84",
   "metadata": {},
   "source": [
    "<br>"
   ]
  },
  {
   "cell_type": "markdown",
   "id": "2b8f60f1",
   "metadata": {},
   "source": [
    "#### c) How many books can be accessed from this API?"
   ]
  },
  {
   "cell_type": "code",
   "execution_count": 22,
   "id": "0e1eaab6",
   "metadata": {},
   "outputs": [],
   "source": [
    "query_params_books = {\"pageSize\": \"50\"} #50 is the maximum pagesize \n",
    "book_url = \"http://anapioficeandfire.com/api/books\""
   ]
  },
  {
   "cell_type": "code",
   "execution_count": 23,
   "id": "f06e657e",
   "metadata": {},
   "outputs": [],
   "source": [
    "books = requests.get(book_url, query_params_books).json()"
   ]
  },
  {
   "cell_type": "code",
   "execution_count": 24,
   "id": "1f514117",
   "metadata": {},
   "outputs": [
    {
     "data": {
      "text/plain": [
       "'12 books can be accessed from this API'"
      ]
     },
     "execution_count": 24,
     "metadata": {},
     "output_type": "execute_result"
    }
   ],
   "source": [
    "f\"{len(books)} books can be accessed from this API\""
   ]
  },
  {
   "cell_type": "markdown",
   "id": "b7f28f86",
   "metadata": {},
   "source": [
    "Result is presented below:\n",
    "\n",
    "|  S/N | Task                                      | Solution                         |\n",
    "|------|-------------------------------------------|----------------------------------|\n",
    "| (c)  | Books Access from API                     | 12 (unique books)                |"
   ]
  },
  {
   "cell_type": "code",
   "execution_count": 32,
   "id": "f1c5e51e",
   "metadata": {},
   "outputs": [
    {
     "name": "stdout",
     "output_type": "stream",
     "text": [
      "Title: A Game of Thrones\n",
      "ISBN: 978-0553103540\n",
      "Authors: George R. R. Martin\n",
      "Number of pages: 694\n",
      "Release date: 1996-08-01T00:00:00\n",
      "\n",
      "Title: A Clash of Kings\n",
      "ISBN: 978-0553108033\n",
      "Authors: George R. R. Martin\n",
      "Number of pages: 768\n",
      "Release date: 1999-02-02T00:00:00\n",
      "\n",
      "Title: A Storm of Swords\n",
      "ISBN: 978-0553106633\n",
      "Authors: George R. R. Martin\n",
      "Number of pages: 992\n",
      "Release date: 2000-10-31T00:00:00\n",
      "\n",
      "Title: The Hedge Knight\n",
      "ISBN: 978-0976401100\n",
      "Authors: George R. R. Martin\n",
      "Number of pages: 164\n",
      "Release date: 2005-03-09T00:00:00\n",
      "\n",
      "Title: A Feast for Crows\n",
      "ISBN: 978-0553801507\n",
      "Authors: George R. R. Martin\n",
      "Number of pages: 784\n",
      "Release date: 2005-11-08T00:00:00\n",
      "\n",
      "Title: The Sworn Sword\n",
      "ISBN: 978-0785126508\n",
      "Authors: George R. R. Martin\n",
      "Number of pages: 152\n",
      "Release date: 2008-06-18T00:00:00\n",
      "\n",
      "Title: The Mystery Knight\n",
      "ISBN: 978-0765360267\n",
      "Authors: George R. R. Martin\n",
      "Number of pages: 416\n",
      "Release date: 2011-03-29T00:00:00\n",
      "\n",
      "Title: A Dance with Dragons\n",
      "ISBN: 978-0553801477\n",
      "Authors: George R. R. Martin\n",
      "Number of pages: 1040\n",
      "Release date: 2011-07-12T00:00:00\n",
      "\n",
      "Title: The Princess and the Queen\n",
      "ISBN: 978-0765332066\n",
      "Authors: George R. R. Martin\n",
      "Number of pages: 784\n",
      "Release date: 2013-12-03T00:00:00\n",
      "\n",
      "Title: The Rogue Prince\n",
      "ISBN: 978-0345537263\n",
      "Authors: George R. R. Martin\n",
      "Number of pages: 832\n",
      "Release date: 2014-06-17T00:00:00\n",
      "\n",
      "Title: The World of Ice and Fire\n",
      "ISBN: 978-0553805444\n",
      "Authors: Elio Garcia, Linda Antonsson, George R. R. Martin\n",
      "Number of pages: 336\n",
      "Release date: 2014-10-28T00:00:00\n",
      "\n",
      "Title: A Knight of the Seven Kingdoms\n",
      "ISBN: 978-0345533487\n",
      "Authors: George R. R. Martin\n",
      "Number of pages: 368\n",
      "Release date: 2015-10-06T00:00:00\n",
      "\n"
     ]
    }
   ],
   "source": [
    "for book in books:\n",
    "    print(f'Title: {book[\"name\"]}')\n",
    "    print(f'ISBN: {book[\"isbn\"]}')\n",
    "    print(f'Authors: {\", \".join(book[\"authors\"])}')\n",
    "    print(f'Number of pages: {book[\"numberOfPages\"]}')\n",
    "    print(f'Release date: {book[\"released\"]}')\n",
    "    print()\n"
   ]
  },
  {
   "cell_type": "code",
   "execution_count": 62,
   "id": "64650305",
   "metadata": {},
   "outputs": [],
   "source": [
    "def get_req(string, page, pageSize):\n",
    "    http = urllib3.PoolManager()\n",
    "    # get url request\n",
    "    url = \"http://anapioficeandfire.com/api/{}?page={}&pageSize={}\".format(string, page, pageSize)\n",
    "    r = http.request('GET', url)\n",
    "    counter = 1\n",
    "    \n",
    "    # initialization\n",
    "    x = json.loads(r.data.decode('utf-8'))\n",
    "    data = pd.json_normalize(json.loads(r.data.decode('utf-8')))\n",
    "    \n",
    "    while x:\n",
    "        data = pd.concat([data, pd.json_normalize(json.loads(r.data.decode('utf-8')))])\n",
    "        counter += 1\n",
    "        url = \"http://anapioficeandfire.com/api/{}?page={}&pageSize={}\".format(string, page, pageSize)\n",
    "        r = http.request('GET', url)\n",
    "        x = json.loads(r.data.decode('utf-8'))\n",
    "        \n",
    "    return data"
   ]
  },
  {
   "cell_type": "code",
   "execution_count": null,
   "id": "54ffc47f",
   "metadata": {},
   "outputs": [],
   "source": []
  },
  {
   "cell_type": "code",
   "execution_count": null,
   "id": "e529b25b",
   "metadata": {},
   "outputs": [],
   "source": [
    "# Taking a very long time"
   ]
  },
  {
   "cell_type": "code",
   "execution_count": 63,
   "id": "3dc687cf",
   "metadata": {},
   "outputs": [
    {
     "ename": "KeyboardInterrupt",
     "evalue": "",
     "output_type": "error",
     "traceback": [
      "\u001b[0;31m---------------------------------------------------------------------------\u001b[0m",
      "\u001b[0;31mKeyboardInterrupt\u001b[0m                         Traceback (most recent call last)",
      "Cell \u001b[0;32mIn[63], line 1\u001b[0m\n\u001b[0;32m----> 1\u001b[0m df_books \u001b[38;5;241m=\u001b[39m \u001b[43mget_req\u001b[49m\u001b[43m(\u001b[49m\u001b[38;5;124;43m\"\u001b[39;49m\u001b[38;5;124;43mbooks\u001b[39;49m\u001b[38;5;124;43m\"\u001b[39;49m\u001b[43m,\u001b[49m\u001b[43m \u001b[49m\u001b[38;5;241;43m0\u001b[39;49m\u001b[43m,\u001b[49m\u001b[43m \u001b[49m\u001b[38;5;241;43m50\u001b[39;49m\u001b[43m)\u001b[49m\n\u001b[1;32m      2\u001b[0m df_books\u001b[38;5;241m.\u001b[39mreset_index(drop\u001b[38;5;241m=\u001b[39m\u001b[38;5;28;01mTrue\u001b[39;00m, inplace\u001b[38;5;241m=\u001b[39m\u001b[38;5;28;01mTrue\u001b[39;00m)\n",
      "Cell \u001b[0;32mIn[62], line 16\u001b[0m, in \u001b[0;36mget_req\u001b[0;34m(string, page, pageSize)\u001b[0m\n\u001b[1;32m     14\u001b[0m     counter \u001b[38;5;241m+\u001b[39m\u001b[38;5;241m=\u001b[39m \u001b[38;5;241m1\u001b[39m\n\u001b[1;32m     15\u001b[0m     url \u001b[38;5;241m=\u001b[39m \u001b[38;5;124m\"\u001b[39m\u001b[38;5;124mhttp://anapioficeandfire.com/api/\u001b[39m\u001b[38;5;132;01m{}\u001b[39;00m\u001b[38;5;124m?page=\u001b[39m\u001b[38;5;132;01m{}\u001b[39;00m\u001b[38;5;124m&pageSize=\u001b[39m\u001b[38;5;132;01m{}\u001b[39;00m\u001b[38;5;124m\"\u001b[39m\u001b[38;5;241m.\u001b[39mformat(string, page, pageSize)\n\u001b[0;32m---> 16\u001b[0m     r \u001b[38;5;241m=\u001b[39m \u001b[43mhttp\u001b[49m\u001b[38;5;241;43m.\u001b[39;49m\u001b[43mrequest\u001b[49m\u001b[43m(\u001b[49m\u001b[38;5;124;43m'\u001b[39;49m\u001b[38;5;124;43mGET\u001b[39;49m\u001b[38;5;124;43m'\u001b[39;49m\u001b[43m,\u001b[49m\u001b[43m \u001b[49m\u001b[43murl\u001b[49m\u001b[43m)\u001b[49m\n\u001b[1;32m     17\u001b[0m     x \u001b[38;5;241m=\u001b[39m json\u001b[38;5;241m.\u001b[39mloads(r\u001b[38;5;241m.\u001b[39mdata\u001b[38;5;241m.\u001b[39mdecode(\u001b[38;5;124m'\u001b[39m\u001b[38;5;124mutf-8\u001b[39m\u001b[38;5;124m'\u001b[39m))\n\u001b[1;32m     19\u001b[0m \u001b[38;5;28;01mreturn\u001b[39;00m data\n",
      "File \u001b[0;32m~/opt/anaconda3/envs/apienv/lib/python3.8/site-packages/urllib3/request.py:74\u001b[0m, in \u001b[0;36mRequestMethods.request\u001b[0;34m(self, method, url, fields, headers, **urlopen_kw)\u001b[0m\n\u001b[1;32m     71\u001b[0m urlopen_kw[\u001b[38;5;124m\"\u001b[39m\u001b[38;5;124mrequest_url\u001b[39m\u001b[38;5;124m\"\u001b[39m] \u001b[38;5;241m=\u001b[39m url\n\u001b[1;32m     73\u001b[0m \u001b[38;5;28;01mif\u001b[39;00m method \u001b[38;5;129;01min\u001b[39;00m \u001b[38;5;28mself\u001b[39m\u001b[38;5;241m.\u001b[39m_encode_url_methods:\n\u001b[0;32m---> 74\u001b[0m     \u001b[38;5;28;01mreturn\u001b[39;00m \u001b[38;5;28;43mself\u001b[39;49m\u001b[38;5;241;43m.\u001b[39;49m\u001b[43mrequest_encode_url\u001b[49m\u001b[43m(\u001b[49m\n\u001b[1;32m     75\u001b[0m \u001b[43m        \u001b[49m\u001b[43mmethod\u001b[49m\u001b[43m,\u001b[49m\u001b[43m \u001b[49m\u001b[43murl\u001b[49m\u001b[43m,\u001b[49m\u001b[43m \u001b[49m\u001b[43mfields\u001b[49m\u001b[38;5;241;43m=\u001b[39;49m\u001b[43mfields\u001b[49m\u001b[43m,\u001b[49m\u001b[43m \u001b[49m\u001b[43mheaders\u001b[49m\u001b[38;5;241;43m=\u001b[39;49m\u001b[43mheaders\u001b[49m\u001b[43m,\u001b[49m\u001b[43m \u001b[49m\u001b[38;5;241;43m*\u001b[39;49m\u001b[38;5;241;43m*\u001b[39;49m\u001b[43murlopen_kw\u001b[49m\n\u001b[1;32m     76\u001b[0m \u001b[43m    \u001b[49m\u001b[43m)\u001b[49m\n\u001b[1;32m     77\u001b[0m \u001b[38;5;28;01melse\u001b[39;00m:\n\u001b[1;32m     78\u001b[0m     \u001b[38;5;28;01mreturn\u001b[39;00m \u001b[38;5;28mself\u001b[39m\u001b[38;5;241m.\u001b[39mrequest_encode_body(\n\u001b[1;32m     79\u001b[0m         method, url, fields\u001b[38;5;241m=\u001b[39mfields, headers\u001b[38;5;241m=\u001b[39mheaders, \u001b[38;5;241m*\u001b[39m\u001b[38;5;241m*\u001b[39murlopen_kw\n\u001b[1;32m     80\u001b[0m     )\n",
      "File \u001b[0;32m~/opt/anaconda3/envs/apienv/lib/python3.8/site-packages/urllib3/request.py:96\u001b[0m, in \u001b[0;36mRequestMethods.request_encode_url\u001b[0;34m(self, method, url, fields, headers, **urlopen_kw)\u001b[0m\n\u001b[1;32m     93\u001b[0m \u001b[38;5;28;01mif\u001b[39;00m fields:\n\u001b[1;32m     94\u001b[0m     url \u001b[38;5;241m+\u001b[39m\u001b[38;5;241m=\u001b[39m \u001b[38;5;124m\"\u001b[39m\u001b[38;5;124m?\u001b[39m\u001b[38;5;124m\"\u001b[39m \u001b[38;5;241m+\u001b[39m urlencode(fields)\n\u001b[0;32m---> 96\u001b[0m \u001b[38;5;28;01mreturn\u001b[39;00m \u001b[38;5;28;43mself\u001b[39;49m\u001b[38;5;241;43m.\u001b[39;49m\u001b[43murlopen\u001b[49m\u001b[43m(\u001b[49m\u001b[43mmethod\u001b[49m\u001b[43m,\u001b[49m\u001b[43m \u001b[49m\u001b[43murl\u001b[49m\u001b[43m,\u001b[49m\u001b[43m \u001b[49m\u001b[38;5;241;43m*\u001b[39;49m\u001b[38;5;241;43m*\u001b[39;49m\u001b[43mextra_kw\u001b[49m\u001b[43m)\u001b[49m\n",
      "File \u001b[0;32m~/opt/anaconda3/envs/apienv/lib/python3.8/site-packages/urllib3/poolmanager.py:418\u001b[0m, in \u001b[0;36mPoolManager.urlopen\u001b[0;34m(self, method, url, redirect, **kw)\u001b[0m\n\u001b[1;32m    415\u001b[0m log\u001b[38;5;241m.\u001b[39minfo(\u001b[38;5;124m\"\u001b[39m\u001b[38;5;124mRedirecting \u001b[39m\u001b[38;5;132;01m%s\u001b[39;00m\u001b[38;5;124m -> \u001b[39m\u001b[38;5;132;01m%s\u001b[39;00m\u001b[38;5;124m\"\u001b[39m, url, redirect_location)\n\u001b[1;32m    417\u001b[0m response\u001b[38;5;241m.\u001b[39mdrain_conn()\n\u001b[0;32m--> 418\u001b[0m \u001b[38;5;28;01mreturn\u001b[39;00m \u001b[38;5;28;43mself\u001b[39;49m\u001b[38;5;241;43m.\u001b[39;49m\u001b[43murlopen\u001b[49m\u001b[43m(\u001b[49m\u001b[43mmethod\u001b[49m\u001b[43m,\u001b[49m\u001b[43m \u001b[49m\u001b[43mredirect_location\u001b[49m\u001b[43m,\u001b[49m\u001b[43m \u001b[49m\u001b[38;5;241;43m*\u001b[39;49m\u001b[38;5;241;43m*\u001b[39;49m\u001b[43mkw\u001b[49m\u001b[43m)\u001b[49m\n",
      "File \u001b[0;32m~/opt/anaconda3/envs/apienv/lib/python3.8/site-packages/urllib3/poolmanager.py:376\u001b[0m, in \u001b[0;36mPoolManager.urlopen\u001b[0;34m(self, method, url, redirect, **kw)\u001b[0m\n\u001b[1;32m    374\u001b[0m     response \u001b[38;5;241m=\u001b[39m conn\u001b[38;5;241m.\u001b[39murlopen(method, url, \u001b[38;5;241m*\u001b[39m\u001b[38;5;241m*\u001b[39mkw)\n\u001b[1;32m    375\u001b[0m \u001b[38;5;28;01melse\u001b[39;00m:\n\u001b[0;32m--> 376\u001b[0m     response \u001b[38;5;241m=\u001b[39m \u001b[43mconn\u001b[49m\u001b[38;5;241;43m.\u001b[39;49m\u001b[43murlopen\u001b[49m\u001b[43m(\u001b[49m\u001b[43mmethod\u001b[49m\u001b[43m,\u001b[49m\u001b[43m \u001b[49m\u001b[43mu\u001b[49m\u001b[38;5;241;43m.\u001b[39;49m\u001b[43mrequest_uri\u001b[49m\u001b[43m,\u001b[49m\u001b[43m \u001b[49m\u001b[38;5;241;43m*\u001b[39;49m\u001b[38;5;241;43m*\u001b[39;49m\u001b[43mkw\u001b[49m\u001b[43m)\u001b[49m\n\u001b[1;32m    378\u001b[0m redirect_location \u001b[38;5;241m=\u001b[39m redirect \u001b[38;5;129;01mand\u001b[39;00m response\u001b[38;5;241m.\u001b[39mget_redirect_location()\n\u001b[1;32m    379\u001b[0m \u001b[38;5;28;01mif\u001b[39;00m \u001b[38;5;129;01mnot\u001b[39;00m redirect_location:\n",
      "File \u001b[0;32m~/opt/anaconda3/envs/apienv/lib/python3.8/site-packages/urllib3/connectionpool.py:703\u001b[0m, in \u001b[0;36mHTTPConnectionPool.urlopen\u001b[0;34m(self, method, url, body, headers, retries, redirect, assert_same_host, timeout, pool_timeout, release_conn, chunked, body_pos, **response_kw)\u001b[0m\n\u001b[1;32m    700\u001b[0m     \u001b[38;5;28mself\u001b[39m\u001b[38;5;241m.\u001b[39m_prepare_proxy(conn)\n\u001b[1;32m    702\u001b[0m \u001b[38;5;66;03m# Make the request on the httplib connection object.\u001b[39;00m\n\u001b[0;32m--> 703\u001b[0m httplib_response \u001b[38;5;241m=\u001b[39m \u001b[38;5;28;43mself\u001b[39;49m\u001b[38;5;241;43m.\u001b[39;49m\u001b[43m_make_request\u001b[49m\u001b[43m(\u001b[49m\n\u001b[1;32m    704\u001b[0m \u001b[43m    \u001b[49m\u001b[43mconn\u001b[49m\u001b[43m,\u001b[49m\n\u001b[1;32m    705\u001b[0m \u001b[43m    \u001b[49m\u001b[43mmethod\u001b[49m\u001b[43m,\u001b[49m\n\u001b[1;32m    706\u001b[0m \u001b[43m    \u001b[49m\u001b[43murl\u001b[49m\u001b[43m,\u001b[49m\n\u001b[1;32m    707\u001b[0m \u001b[43m    \u001b[49m\u001b[43mtimeout\u001b[49m\u001b[38;5;241;43m=\u001b[39;49m\u001b[43mtimeout_obj\u001b[49m\u001b[43m,\u001b[49m\n\u001b[1;32m    708\u001b[0m \u001b[43m    \u001b[49m\u001b[43mbody\u001b[49m\u001b[38;5;241;43m=\u001b[39;49m\u001b[43mbody\u001b[49m\u001b[43m,\u001b[49m\n\u001b[1;32m    709\u001b[0m \u001b[43m    \u001b[49m\u001b[43mheaders\u001b[49m\u001b[38;5;241;43m=\u001b[39;49m\u001b[43mheaders\u001b[49m\u001b[43m,\u001b[49m\n\u001b[1;32m    710\u001b[0m \u001b[43m    \u001b[49m\u001b[43mchunked\u001b[49m\u001b[38;5;241;43m=\u001b[39;49m\u001b[43mchunked\u001b[49m\u001b[43m,\u001b[49m\n\u001b[1;32m    711\u001b[0m \u001b[43m\u001b[49m\u001b[43m)\u001b[49m\n\u001b[1;32m    713\u001b[0m \u001b[38;5;66;03m# If we're going to release the connection in ``finally:``, then\u001b[39;00m\n\u001b[1;32m    714\u001b[0m \u001b[38;5;66;03m# the response doesn't need to know about the connection. Otherwise\u001b[39;00m\n\u001b[1;32m    715\u001b[0m \u001b[38;5;66;03m# it will also try to release it and we'll have a double-release\u001b[39;00m\n\u001b[1;32m    716\u001b[0m \u001b[38;5;66;03m# mess.\u001b[39;00m\n\u001b[1;32m    717\u001b[0m response_conn \u001b[38;5;241m=\u001b[39m conn \u001b[38;5;28;01mif\u001b[39;00m \u001b[38;5;129;01mnot\u001b[39;00m release_conn \u001b[38;5;28;01melse\u001b[39;00m \u001b[38;5;28;01mNone\u001b[39;00m\n",
      "File \u001b[0;32m~/opt/anaconda3/envs/apienv/lib/python3.8/site-packages/urllib3/connectionpool.py:449\u001b[0m, in \u001b[0;36mHTTPConnectionPool._make_request\u001b[0;34m(self, conn, method, url, timeout, chunked, **httplib_request_kw)\u001b[0m\n\u001b[1;32m    444\u001b[0m             httplib_response \u001b[38;5;241m=\u001b[39m conn\u001b[38;5;241m.\u001b[39mgetresponse()\n\u001b[1;32m    445\u001b[0m         \u001b[38;5;28;01mexcept\u001b[39;00m \u001b[38;5;167;01mBaseException\u001b[39;00m \u001b[38;5;28;01mas\u001b[39;00m e:\n\u001b[1;32m    446\u001b[0m             \u001b[38;5;66;03m# Remove the TypeError from the exception chain in\u001b[39;00m\n\u001b[1;32m    447\u001b[0m             \u001b[38;5;66;03m# Python 3 (including for exceptions like SystemExit).\u001b[39;00m\n\u001b[1;32m    448\u001b[0m             \u001b[38;5;66;03m# Otherwise it looks like a bug in the code.\u001b[39;00m\n\u001b[0;32m--> 449\u001b[0m             \u001b[43msix\u001b[49m\u001b[38;5;241;43m.\u001b[39;49m\u001b[43mraise_from\u001b[49m\u001b[43m(\u001b[49m\u001b[43me\u001b[49m\u001b[43m,\u001b[49m\u001b[43m \u001b[49m\u001b[38;5;28;43;01mNone\u001b[39;49;00m\u001b[43m)\u001b[49m\n\u001b[1;32m    450\u001b[0m \u001b[38;5;28;01mexcept\u001b[39;00m (SocketTimeout, BaseSSLError, SocketError) \u001b[38;5;28;01mas\u001b[39;00m e:\n\u001b[1;32m    451\u001b[0m     \u001b[38;5;28mself\u001b[39m\u001b[38;5;241m.\u001b[39m_raise_timeout(err\u001b[38;5;241m=\u001b[39me, url\u001b[38;5;241m=\u001b[39murl, timeout_value\u001b[38;5;241m=\u001b[39mread_timeout)\n",
      "File \u001b[0;32m<string>:3\u001b[0m, in \u001b[0;36mraise_from\u001b[0;34m(value, from_value)\u001b[0m\n",
      "File \u001b[0;32m~/opt/anaconda3/envs/apienv/lib/python3.8/site-packages/urllib3/connectionpool.py:444\u001b[0m, in \u001b[0;36mHTTPConnectionPool._make_request\u001b[0;34m(self, conn, method, url, timeout, chunked, **httplib_request_kw)\u001b[0m\n\u001b[1;32m    441\u001b[0m \u001b[38;5;28;01mexcept\u001b[39;00m \u001b[38;5;167;01mTypeError\u001b[39;00m:\n\u001b[1;32m    442\u001b[0m     \u001b[38;5;66;03m# Python 3\u001b[39;00m\n\u001b[1;32m    443\u001b[0m     \u001b[38;5;28;01mtry\u001b[39;00m:\n\u001b[0;32m--> 444\u001b[0m         httplib_response \u001b[38;5;241m=\u001b[39m \u001b[43mconn\u001b[49m\u001b[38;5;241;43m.\u001b[39;49m\u001b[43mgetresponse\u001b[49m\u001b[43m(\u001b[49m\u001b[43m)\u001b[49m\n\u001b[1;32m    445\u001b[0m     \u001b[38;5;28;01mexcept\u001b[39;00m \u001b[38;5;167;01mBaseException\u001b[39;00m \u001b[38;5;28;01mas\u001b[39;00m e:\n\u001b[1;32m    446\u001b[0m         \u001b[38;5;66;03m# Remove the TypeError from the exception chain in\u001b[39;00m\n\u001b[1;32m    447\u001b[0m         \u001b[38;5;66;03m# Python 3 (including for exceptions like SystemExit).\u001b[39;00m\n\u001b[1;32m    448\u001b[0m         \u001b[38;5;66;03m# Otherwise it looks like a bug in the code.\u001b[39;00m\n\u001b[1;32m    449\u001b[0m         six\u001b[38;5;241m.\u001b[39mraise_from(e, \u001b[38;5;28;01mNone\u001b[39;00m)\n",
      "File \u001b[0;32m~/opt/anaconda3/envs/apienv/lib/python3.8/http/client.py:1348\u001b[0m, in \u001b[0;36mHTTPConnection.getresponse\u001b[0;34m(self)\u001b[0m\n\u001b[1;32m   1346\u001b[0m \u001b[38;5;28;01mtry\u001b[39;00m:\n\u001b[1;32m   1347\u001b[0m     \u001b[38;5;28;01mtry\u001b[39;00m:\n\u001b[0;32m-> 1348\u001b[0m         \u001b[43mresponse\u001b[49m\u001b[38;5;241;43m.\u001b[39;49m\u001b[43mbegin\u001b[49m\u001b[43m(\u001b[49m\u001b[43m)\u001b[49m\n\u001b[1;32m   1349\u001b[0m     \u001b[38;5;28;01mexcept\u001b[39;00m \u001b[38;5;167;01mConnectionError\u001b[39;00m:\n\u001b[1;32m   1350\u001b[0m         \u001b[38;5;28mself\u001b[39m\u001b[38;5;241m.\u001b[39mclose()\n",
      "File \u001b[0;32m~/opt/anaconda3/envs/apienv/lib/python3.8/http/client.py:316\u001b[0m, in \u001b[0;36mHTTPResponse.begin\u001b[0;34m(self)\u001b[0m\n\u001b[1;32m    314\u001b[0m \u001b[38;5;66;03m# read until we get a non-100 response\u001b[39;00m\n\u001b[1;32m    315\u001b[0m \u001b[38;5;28;01mwhile\u001b[39;00m \u001b[38;5;28;01mTrue\u001b[39;00m:\n\u001b[0;32m--> 316\u001b[0m     version, status, reason \u001b[38;5;241m=\u001b[39m \u001b[38;5;28;43mself\u001b[39;49m\u001b[38;5;241;43m.\u001b[39;49m\u001b[43m_read_status\u001b[49m\u001b[43m(\u001b[49m\u001b[43m)\u001b[49m\n\u001b[1;32m    317\u001b[0m     \u001b[38;5;28;01mif\u001b[39;00m status \u001b[38;5;241m!=\u001b[39m CONTINUE:\n\u001b[1;32m    318\u001b[0m         \u001b[38;5;28;01mbreak\u001b[39;00m\n",
      "File \u001b[0;32m~/opt/anaconda3/envs/apienv/lib/python3.8/http/client.py:277\u001b[0m, in \u001b[0;36mHTTPResponse._read_status\u001b[0;34m(self)\u001b[0m\n\u001b[1;32m    276\u001b[0m \u001b[38;5;28;01mdef\u001b[39;00m \u001b[38;5;21m_read_status\u001b[39m(\u001b[38;5;28mself\u001b[39m):\n\u001b[0;32m--> 277\u001b[0m     line \u001b[38;5;241m=\u001b[39m \u001b[38;5;28mstr\u001b[39m(\u001b[38;5;28;43mself\u001b[39;49m\u001b[38;5;241;43m.\u001b[39;49m\u001b[43mfp\u001b[49m\u001b[38;5;241;43m.\u001b[39;49m\u001b[43mreadline\u001b[49m\u001b[43m(\u001b[49m\u001b[43m_MAXLINE\u001b[49m\u001b[43m \u001b[49m\u001b[38;5;241;43m+\u001b[39;49m\u001b[43m \u001b[49m\u001b[38;5;241;43m1\u001b[39;49m\u001b[43m)\u001b[49m, \u001b[38;5;124m\"\u001b[39m\u001b[38;5;124miso-8859-1\u001b[39m\u001b[38;5;124m\"\u001b[39m)\n\u001b[1;32m    278\u001b[0m     \u001b[38;5;28;01mif\u001b[39;00m \u001b[38;5;28mlen\u001b[39m(line) \u001b[38;5;241m>\u001b[39m _MAXLINE:\n\u001b[1;32m    279\u001b[0m         \u001b[38;5;28;01mraise\u001b[39;00m LineTooLong(\u001b[38;5;124m\"\u001b[39m\u001b[38;5;124mstatus line\u001b[39m\u001b[38;5;124m\"\u001b[39m)\n",
      "File \u001b[0;32m~/opt/anaconda3/envs/apienv/lib/python3.8/socket.py:669\u001b[0m, in \u001b[0;36mSocketIO.readinto\u001b[0;34m(self, b)\u001b[0m\n\u001b[1;32m    667\u001b[0m \u001b[38;5;28;01mwhile\u001b[39;00m \u001b[38;5;28;01mTrue\u001b[39;00m:\n\u001b[1;32m    668\u001b[0m     \u001b[38;5;28;01mtry\u001b[39;00m:\n\u001b[0;32m--> 669\u001b[0m         \u001b[38;5;28;01mreturn\u001b[39;00m \u001b[38;5;28;43mself\u001b[39;49m\u001b[38;5;241;43m.\u001b[39;49m\u001b[43m_sock\u001b[49m\u001b[38;5;241;43m.\u001b[39;49m\u001b[43mrecv_into\u001b[49m\u001b[43m(\u001b[49m\u001b[43mb\u001b[49m\u001b[43m)\u001b[49m\n\u001b[1;32m    670\u001b[0m     \u001b[38;5;28;01mexcept\u001b[39;00m timeout:\n\u001b[1;32m    671\u001b[0m         \u001b[38;5;28mself\u001b[39m\u001b[38;5;241m.\u001b[39m_timeout_occurred \u001b[38;5;241m=\u001b[39m \u001b[38;5;28;01mTrue\u001b[39;00m\n",
      "File \u001b[0;32m~/opt/anaconda3/envs/apienv/lib/python3.8/ssl.py:1241\u001b[0m, in \u001b[0;36mSSLSocket.recv_into\u001b[0;34m(self, buffer, nbytes, flags)\u001b[0m\n\u001b[1;32m   1237\u001b[0m     \u001b[38;5;28;01mif\u001b[39;00m flags \u001b[38;5;241m!=\u001b[39m \u001b[38;5;241m0\u001b[39m:\n\u001b[1;32m   1238\u001b[0m         \u001b[38;5;28;01mraise\u001b[39;00m \u001b[38;5;167;01mValueError\u001b[39;00m(\n\u001b[1;32m   1239\u001b[0m           \u001b[38;5;124m\"\u001b[39m\u001b[38;5;124mnon-zero flags not allowed in calls to recv_into() on \u001b[39m\u001b[38;5;132;01m%s\u001b[39;00m\u001b[38;5;124m\"\u001b[39m \u001b[38;5;241m%\u001b[39m\n\u001b[1;32m   1240\u001b[0m           \u001b[38;5;28mself\u001b[39m\u001b[38;5;241m.\u001b[39m\u001b[38;5;18m__class__\u001b[39m)\n\u001b[0;32m-> 1241\u001b[0m     \u001b[38;5;28;01mreturn\u001b[39;00m \u001b[38;5;28;43mself\u001b[39;49m\u001b[38;5;241;43m.\u001b[39;49m\u001b[43mread\u001b[49m\u001b[43m(\u001b[49m\u001b[43mnbytes\u001b[49m\u001b[43m,\u001b[49m\u001b[43m \u001b[49m\u001b[43mbuffer\u001b[49m\u001b[43m)\u001b[49m\n\u001b[1;32m   1242\u001b[0m \u001b[38;5;28;01melse\u001b[39;00m:\n\u001b[1;32m   1243\u001b[0m     \u001b[38;5;28;01mreturn\u001b[39;00m \u001b[38;5;28msuper\u001b[39m()\u001b[38;5;241m.\u001b[39mrecv_into(buffer, nbytes, flags)\n",
      "File \u001b[0;32m~/opt/anaconda3/envs/apienv/lib/python3.8/ssl.py:1099\u001b[0m, in \u001b[0;36mSSLSocket.read\u001b[0;34m(self, len, buffer)\u001b[0m\n\u001b[1;32m   1097\u001b[0m \u001b[38;5;28;01mtry\u001b[39;00m:\n\u001b[1;32m   1098\u001b[0m     \u001b[38;5;28;01mif\u001b[39;00m buffer \u001b[38;5;129;01mis\u001b[39;00m \u001b[38;5;129;01mnot\u001b[39;00m \u001b[38;5;28;01mNone\u001b[39;00m:\n\u001b[0;32m-> 1099\u001b[0m         \u001b[38;5;28;01mreturn\u001b[39;00m \u001b[38;5;28;43mself\u001b[39;49m\u001b[38;5;241;43m.\u001b[39;49m\u001b[43m_sslobj\u001b[49m\u001b[38;5;241;43m.\u001b[39;49m\u001b[43mread\u001b[49m\u001b[43m(\u001b[49m\u001b[38;5;28;43mlen\u001b[39;49m\u001b[43m,\u001b[49m\u001b[43m \u001b[49m\u001b[43mbuffer\u001b[49m\u001b[43m)\u001b[49m\n\u001b[1;32m   1100\u001b[0m     \u001b[38;5;28;01melse\u001b[39;00m:\n\u001b[1;32m   1101\u001b[0m         \u001b[38;5;28;01mreturn\u001b[39;00m \u001b[38;5;28mself\u001b[39m\u001b[38;5;241m.\u001b[39m_sslobj\u001b[38;5;241m.\u001b[39mread(\u001b[38;5;28mlen\u001b[39m)\n",
      "\u001b[0;31mKeyboardInterrupt\u001b[0m: "
     ]
    }
   ],
   "source": [
    "df_books = get_req(\"books\", 0, 50)\n",
    "df_books.reset_index(drop=True, inplace=True)"
   ]
  },
  {
   "cell_type": "code",
   "execution_count": null,
   "id": "e4dc3a7b",
   "metadata": {},
   "outputs": [],
   "source": []
  },
  {
   "cell_type": "markdown",
   "id": "f90f8ec2",
   "metadata": {},
   "source": [
    "It should be noted that since the documentation did not specify the maximum `pageSize` length, by inspection, the value is 50"
   ]
  },
  {
   "cell_type": "markdown",
   "id": "e0912003",
   "metadata": {},
   "source": [
    "<br>"
   ]
  },
  {
   "cell_type": "markdown",
   "id": "d5c8565d",
   "metadata": {},
   "source": [
    "#### d) How many books does the character 'High Septon' appear in? (ignoring 'povcharacters') "
   ]
  },
  {
   "cell_type": "code",
   "execution_count": 23,
   "id": "a0aa70a8",
   "metadata": {},
   "outputs": [],
   "source": [
    "unique_char = \"High Septon\"\n",
    "query_params_char = {\"name\": unique_char}#, \"pageSize\": \"50\"}\n",
    "char_url = \"http://anapioficeandfire.com/api/characters\""
   ]
  },
  {
   "cell_type": "code",
   "execution_count": 24,
   "id": "92135281",
   "metadata": {},
   "outputs": [
    {
     "data": {
      "text/plain": [
       "[{'url': 'https://anapioficeandfire.com/api/characters/15',\n",
       "  'name': 'High Septon',\n",
       "  'gender': 'Male',\n",
       "  'culture': '',\n",
       "  'born': '',\n",
       "  'died': '',\n",
       "  'titles': ['High Septon',\n",
       "   'His High Holiness',\n",
       "   'Father of the Faithful',\n",
       "   'Voice of the Seven on Earth'],\n",
       "  'aliases': ['The High Sparrow'],\n",
       "  'father': '',\n",
       "  'mother': '',\n",
       "  'spouse': '',\n",
       "  'allegiances': [],\n",
       "  'books': ['https://anapioficeandfire.com/api/books/5',\n",
       "   'https://anapioficeandfire.com/api/books/8'],\n",
       "  'povBooks': [],\n",
       "  'tvSeries': ['Season 5', 'Season 6'],\n",
       "  'playedBy': ['Jonathan Pryce']}]"
      ]
     },
     "execution_count": 24,
     "metadata": {},
     "output_type": "execute_result"
    }
   ],
   "source": [
    "unique_char_result = requests.get(char_url, query_params_char).json()\n",
    "unique_char_result"
   ]
  },
  {
   "cell_type": "code",
   "execution_count": 31,
   "id": "586dd066",
   "metadata": {},
   "outputs": [],
   "source": [
    "# list_of_books = []\n",
    "# for i in range(len(books)):\n",
    "#     for unique_char in books[i][\"characters\"]:\n",
    "#         if unique_char_result[0][\"url\"] in unique_char:\n",
    "#             list_of_books.append(books[i][\"name\"])\n"
   ]
  },
  {
   "cell_type": "code",
   "execution_count": 26,
   "id": "5879572a",
   "metadata": {},
   "outputs": [
    {
     "data": {
      "text/plain": [
       "\"The character 'High Septon' appear in 10 books\""
      ]
     },
     "execution_count": 26,
     "metadata": {},
     "output_type": "execute_result"
    }
   ],
   "source": [
    "f\"The character 'High Septon' appear in {len(set(list_of_books))} books\""
   ]
  },
  {
   "cell_type": "code",
   "execution_count": 27,
   "id": "e52a8867",
   "metadata": {},
   "outputs": [
    {
     "data": {
      "text/plain": [
       "223"
      ]
     },
     "execution_count": 27,
     "metadata": {},
     "output_type": "execute_result"
    }
   ],
   "source": [
    "len(list_of_books)"
   ]
  },
  {
   "cell_type": "code",
   "execution_count": null,
   "id": "f5da122b",
   "metadata": {},
   "outputs": [],
   "source": [
    "high_s = "
   ]
  },
  {
   "cell_type": "markdown",
   "id": "47b7525f",
   "metadata": {},
   "source": [
    "<br>"
   ]
  }
 ],
 "metadata": {
  "kernelspec": {
   "display_name": "Python 3 (ipykernel)",
   "language": "python",
   "name": "python3"
  },
  "language_info": {
   "codemirror_mode": {
    "name": "ipython",
    "version": 3
   },
   "file_extension": ".py",
   "mimetype": "text/x-python",
   "name": "python",
   "nbconvert_exporter": "python",
   "pygments_lexer": "ipython3",
   "version": "3.8.16"
  }
 },
 "nbformat": 4,
 "nbformat_minor": 5
}
