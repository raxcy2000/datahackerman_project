{
 "cells": [
  {
   "cell_type": "markdown",
   "id": "554883eb",
   "metadata": {},
   "source": [
    "## DATA HACKERMAN FINAL PROJECT"
   ]
  },
  {
   "cell_type": "markdown",
   "id": "56a1e770",
   "metadata": {},
   "source": [
    "### PART 2 - _File type manipulation and formatting_"
   ]
  },
  {
   "cell_type": "markdown",
   "id": "7ca6fb80",
   "metadata": {},
   "source": [
    "Three files are presented, one CSV, one TXT and one JSON file. Each contain 1000 rows of data. There are two challenges, both involving collating these files into one data frame. The fields in all files are:\n",
    "\n",
    "   - 'author.properties.friends',  'author.properties.status_count',  'author.properties.verified',  'content.body',  'location.country',  'properties.platform',  'properties.sentiment',  'location.latitude',  'location.longitude' where the ‘.’ Indicates a nested field.\n",
    " \n",
    "a) Collate the CSV and TXT files together into one pandas dataframe (dataframe should be 2000 rows and have all of the columns present in both files)\n",
    "\n",
    "b) Use the created dataframe, integrate the data from the JSON file into the existing columns. The resulting dataframe should now be 3000 rows long."
   ]
  },
  {
   "cell_type": "code",
   "execution_count": 20,
   "id": "5f362876",
   "metadata": {},
   "outputs": [
    {
     "data": {
      "text/html": [
       "<style>.container { width:100% !important; }</style>"
      ],
      "text/plain": [
       "<IPython.core.display.HTML object>"
      ]
     },
     "metadata": {},
     "output_type": "display_data"
    }
   ],
   "source": [
    "import pandas as pd\n",
    "import json\n",
    "import os\n",
    "\n",
    "pd.set_option(\"display.max_columns\", None)\n",
    "pd.set_option(\"display.max_rows\", None)\n",
    "pd.options.display.max_colwidth = None\n",
    "pd.set_option(\"display.float_format\", lambda x: '%.2f' % x)\n",
    "\n",
    "from IPython.display import display, HTML\n",
    "display(HTML(\"<style>.container { width:100% !important; }</style>\"))\n",
    "\n",
    "from data_ingestion.ingest import get_data\n",
    "from parameters.params import csv_file_path, text_file_path, json_file_path, save_path "
   ]
  },
  {
   "cell_type": "markdown",
   "id": "229a959c",
   "metadata": {},
   "source": [
    "### Read in Data"
   ]
  },
  {
   "cell_type": "markdown",
   "id": "fdd41e17",
   "metadata": {},
   "source": [
    "**CSV DATA**"
   ]
  },
  {
   "cell_type": "code",
   "execution_count": 3,
   "id": "b2d83316",
   "metadata": {},
   "outputs": [
    {
     "data": {
      "text/html": [
       "<div>\n",
       "<style scoped>\n",
       "    .dataframe tbody tr th:only-of-type {\n",
       "        vertical-align: middle;\n",
       "    }\n",
       "\n",
       "    .dataframe tbody tr th {\n",
       "        vertical-align: top;\n",
       "    }\n",
       "\n",
       "    .dataframe thead th {\n",
       "        text-align: right;\n",
       "    }\n",
       "</style>\n",
       "<table border=\"1\" class=\"dataframe\">\n",
       "  <thead>\n",
       "    <tr style=\"text-align: right;\">\n",
       "      <th></th>\n",
       "      <th>author.properties.friends</th>\n",
       "      <th>author.properties.status_count</th>\n",
       "      <th>author.properties.verified</th>\n",
       "      <th>content.body</th>\n",
       "      <th>location.country</th>\n",
       "      <th>properties.platform</th>\n",
       "      <th>properties.sentiment</th>\n",
       "      <th>location.latitude</th>\n",
       "      <th>location.longitude</th>\n",
       "    </tr>\n",
       "  </thead>\n",
       "  <tbody>\n",
       "    <tr>\n",
       "      <th>231</th>\n",
       "      <td>27</td>\n",
       "      <td>1711</td>\n",
       "      <td>False</td>\n",
       "      <td>@Jack_Septic_Eye I'm in Ireland, can we meet? ❤️✌🏻️</td>\n",
       "      <td>GB</td>\n",
       "      <td>twitter</td>\n",
       "      <td>-1</td>\n",
       "      <td>55.20</td>\n",
       "      <td>-6.25</td>\n",
       "    </tr>\n",
       "    <tr>\n",
       "      <th>209</th>\n",
       "      <td>144</td>\n",
       "      <td>11769</td>\n",
       "      <td>False</td>\n",
       "      <td>mans even bought new clobber and im still int dumps how poo</td>\n",
       "      <td>GB</td>\n",
       "      <td>twitter</td>\n",
       "      <td>-1</td>\n",
       "      <td>53.54</td>\n",
       "      <td>-2.65</td>\n",
       "    </tr>\n",
       "  </tbody>\n",
       "</table>\n",
       "</div>"
      ],
      "text/plain": [
       "     author.properties.friends  author.properties.status_count  \\\n",
       "231                         27                            1711   \n",
       "209                        144                           11769   \n",
       "\n",
       "     author.properties.verified  \\\n",
       "231                       False   \n",
       "209                       False   \n",
       "\n",
       "                                                    content.body  \\\n",
       "231          @Jack_Septic_Eye I'm in Ireland, can we meet? ❤️✌🏻️   \n",
       "209  mans even bought new clobber and im still int dumps how poo   \n",
       "\n",
       "    location.country properties.platform  properties.sentiment  \\\n",
       "231               GB             twitter                    -1   \n",
       "209               GB             twitter                    -1   \n",
       "\n",
       "     location.latitude  location.longitude  \n",
       "231              55.20               -6.25  \n",
       "209              53.54               -2.65  "
      ]
     },
     "execution_count": 3,
     "metadata": {},
     "output_type": "execute_result"
    }
   ],
   "source": [
    "csv_data = get_data(csv_file_path)\n",
    "csv_data.sample(2)"
   ]
  },
  {
   "cell_type": "code",
   "execution_count": 4,
   "id": "ac4b91c3",
   "metadata": {},
   "outputs": [
    {
     "data": {
      "text/plain": [
       "Index(['author.properties.friends', 'author.properties.status_count',\n",
       "       'author.properties.verified', 'content.body', 'location.country',\n",
       "       'properties.platform', 'properties.sentiment', 'location.latitude',\n",
       "       'location.longitude'],\n",
       "      dtype='object')"
      ]
     },
     "execution_count": 4,
     "metadata": {},
     "output_type": "execute_result"
    }
   ],
   "source": [
    "csv_data.columns"
   ]
  },
  {
   "cell_type": "code",
   "execution_count": 5,
   "id": "a93264c5",
   "metadata": {},
   "outputs": [
    {
     "data": {
      "text/plain": [
       "(1000, 9)"
      ]
     },
     "execution_count": 5,
     "metadata": {},
     "output_type": "execute_result"
    }
   ],
   "source": [
    "csv_data.shape"
   ]
  },
  {
   "cell_type": "markdown",
   "id": "1eb9341a",
   "metadata": {},
   "source": [
    "**TXT DATA**"
   ]
  },
  {
   "cell_type": "code",
   "execution_count": 6,
   "id": "a78ac0d5",
   "metadata": {},
   "outputs": [
    {
     "data": {
      "text/html": [
       "<div>\n",
       "<style scoped>\n",
       "    .dataframe tbody tr th:only-of-type {\n",
       "        vertical-align: middle;\n",
       "    }\n",
       "\n",
       "    .dataframe tbody tr th {\n",
       "        vertical-align: top;\n",
       "    }\n",
       "\n",
       "    .dataframe thead th {\n",
       "        text-align: right;\n",
       "    }\n",
       "</style>\n",
       "<table border=\"1\" class=\"dataframe\">\n",
       "  <thead>\n",
       "    <tr style=\"text-align: right;\">\n",
       "      <th></th>\n",
       "      <th>author.properties.friends</th>\n",
       "      <th>author.properties.verified</th>\n",
       "      <th>location.longitude</th>\n",
       "      <th>author.properties.status_count</th>\n",
       "      <th>properties.sentiment</th>\n",
       "      <th>location.latitude</th>\n",
       "      <th>location.country</th>\n",
       "      <th>content.body</th>\n",
       "      <th>properties.platform</th>\n",
       "    </tr>\n",
       "  </thead>\n",
       "  <tbody>\n",
       "    <tr>\n",
       "      <th>186</th>\n",
       "      <td>794</td>\n",
       "      <td>False</td>\n",
       "      <td>-0.19</td>\n",
       "      <td>12978.00</td>\n",
       "      <td>1.00</td>\n",
       "      <td>50.84</td>\n",
       "      <td>GB</td>\n",
       "      <td>Nope :)  https://t.co/eWbQNYTQOO</td>\n",
       "      <td>twitter</td>\n",
       "    </tr>\n",
       "    <tr>\n",
       "      <th>880</th>\n",
       "      <td>12406</td>\n",
       "      <td>False</td>\n",
       "      <td>-4.62</td>\n",
       "      <td>49176.00</td>\n",
       "      <td>1.00</td>\n",
       "      <td>55.47</td>\n",
       "      <td>GB</td>\n",
       "      <td>@cuddlememila love you 😘</td>\n",
       "      <td>twitter</td>\n",
       "    </tr>\n",
       "  </tbody>\n",
       "</table>\n",
       "</div>"
      ],
      "text/plain": [
       "    author.properties.friends author.properties.verified  location.longitude  \\\n",
       "186                       794                      False               -0.19   \n",
       "880                     12406                      False               -4.62   \n",
       "\n",
       "     author.properties.status_count  properties.sentiment  location.latitude  \\\n",
       "186                        12978.00                  1.00              50.84   \n",
       "880                        49176.00                  1.00              55.47   \n",
       "\n",
       "    location.country                      content.body properties.platform  \n",
       "186               GB  Nope :)  https://t.co/eWbQNYTQOO             twitter  \n",
       "880               GB          @cuddlememila love you 😘             twitter  "
      ]
     },
     "execution_count": 6,
     "metadata": {},
     "output_type": "execute_result"
    }
   ],
   "source": [
    "txt_data = get_data(text_file_path)\n",
    "txt_data.sample(2)"
   ]
  },
  {
   "cell_type": "code",
   "execution_count": 7,
   "id": "ed81c37d",
   "metadata": {},
   "outputs": [
    {
     "data": {
      "text/plain": [
       "Index(['author.properties.friends', 'author.properties.verified',\n",
       "       'location.longitude', 'author.properties.status_count',\n",
       "       'properties.sentiment', 'location.latitude', 'location.country',\n",
       "       'content.body', 'properties.platform'],\n",
       "      dtype='object')"
      ]
     },
     "execution_count": 7,
     "metadata": {},
     "output_type": "execute_result"
    }
   ],
   "source": [
    "txt_data.columns"
   ]
  },
  {
   "cell_type": "code",
   "execution_count": 8,
   "id": "472822e0",
   "metadata": {},
   "outputs": [
    {
     "data": {
      "text/plain": [
       "(1000, 9)"
      ]
     },
     "execution_count": 8,
     "metadata": {},
     "output_type": "execute_result"
    }
   ],
   "source": [
    "txt_data.shape"
   ]
  },
  {
   "cell_type": "markdown",
   "id": "a357c543",
   "metadata": {},
   "source": [
    "**JSON DATA**"
   ]
  },
  {
   "cell_type": "code",
   "execution_count": 9,
   "id": "b1088232",
   "metadata": {},
   "outputs": [
    {
     "data": {
      "text/plain": [
       "{'author': {'properties': {'friends': 150,\n",
       "   'verified': False,\n",
       "   'status_count': 583}},\n",
       " 'location': {'longitude': -1.4496120000000003,\n",
       "  'country': 'GB',\n",
       "  'latitude': 53.38322877572023},\n",
       " 'content': {'body': \"To everyone tryin to snapchat me fuck off I'm ugly\"},\n",
       " 'properties': {'sentiment': -1, 'platform': 'twitter'}}"
      ]
     },
     "execution_count": 9,
     "metadata": {},
     "output_type": "execute_result"
    }
   ],
   "source": [
    "json_data = get_data(json_file_path)\n",
    "json_data[0]"
   ]
  },
  {
   "cell_type": "code",
   "execution_count": 10,
   "id": "69d49bbc",
   "metadata": {},
   "outputs": [
    {
     "data": {
      "text/html": [
       "<div>\n",
       "<style scoped>\n",
       "    .dataframe tbody tr th:only-of-type {\n",
       "        vertical-align: middle;\n",
       "    }\n",
       "\n",
       "    .dataframe tbody tr th {\n",
       "        vertical-align: top;\n",
       "    }\n",
       "\n",
       "    .dataframe thead th {\n",
       "        text-align: right;\n",
       "    }\n",
       "</style>\n",
       "<table border=\"1\" class=\"dataframe\">\n",
       "  <thead>\n",
       "    <tr style=\"text-align: right;\">\n",
       "      <th></th>\n",
       "      <th>author.properties.friends</th>\n",
       "      <th>author.properties.verified</th>\n",
       "      <th>author.properties.status_count</th>\n",
       "      <th>location.longitude</th>\n",
       "      <th>location.country</th>\n",
       "      <th>location.latitude</th>\n",
       "      <th>content.body</th>\n",
       "      <th>properties.sentiment</th>\n",
       "      <th>properties.platform</th>\n",
       "    </tr>\n",
       "  </thead>\n",
       "  <tbody>\n",
       "    <tr>\n",
       "      <th>860</th>\n",
       "      <td>526</td>\n",
       "      <td>False</td>\n",
       "      <td>13108</td>\n",
       "      <td>-3.60</td>\n",
       "      <td>GB</td>\n",
       "      <td>55.98</td>\n",
       "      <td>Worst for putting stuff down then forgetting where I've put it</td>\n",
       "      <td>-1</td>\n",
       "      <td>twitter</td>\n",
       "    </tr>\n",
       "    <tr>\n",
       "      <th>142</th>\n",
       "      <td>243</td>\n",
       "      <td>False</td>\n",
       "      <td>13893</td>\n",
       "      <td>-1.22</td>\n",
       "      <td>GB</td>\n",
       "      <td>54.68</td>\n",
       "      <td>revenge is my favourite thing ever</td>\n",
       "      <td>1</td>\n",
       "      <td>twitter</td>\n",
       "    </tr>\n",
       "  </tbody>\n",
       "</table>\n",
       "</div>"
      ],
      "text/plain": [
       "     author.properties.friends  author.properties.verified  \\\n",
       "860                        526                       False   \n",
       "142                        243                       False   \n",
       "\n",
       "     author.properties.status_count  location.longitude location.country  \\\n",
       "860                           13108               -3.60               GB   \n",
       "142                           13893               -1.22               GB   \n",
       "\n",
       "     location.latitude  \\\n",
       "860              55.98   \n",
       "142              54.68   \n",
       "\n",
       "                                                       content.body  \\\n",
       "860  Worst for putting stuff down then forgetting where I've put it   \n",
       "142                              revenge is my favourite thing ever   \n",
       "\n",
       "     properties.sentiment properties.platform  \n",
       "860                    -1             twitter  \n",
       "142                     1             twitter  "
      ]
     },
     "execution_count": 10,
     "metadata": {},
     "output_type": "execute_result"
    }
   ],
   "source": [
    "json_data_normalized = pd.json_normalize(json_data)\n",
    "json_data_normalized.sample(2)"
   ]
  },
  {
   "cell_type": "code",
   "execution_count": 11,
   "id": "d109bc63",
   "metadata": {},
   "outputs": [
    {
     "data": {
      "text/plain": [
       "(1000, 9)"
      ]
     },
     "execution_count": 11,
     "metadata": {},
     "output_type": "execute_result"
    }
   ],
   "source": [
    "json_data_normalized.shape"
   ]
  },
  {
   "cell_type": "markdown",
   "id": "f6153fb4",
   "metadata": {},
   "source": [
    "### Collating the CSV and TXT files together"
   ]
  },
  {
   "cell_type": "code",
   "execution_count": 12,
   "id": "e36130cf",
   "metadata": {},
   "outputs": [],
   "source": [
    "csv_txt_combined = pd.concat([csv_data, txt_data])"
   ]
  },
  {
   "cell_type": "code",
   "execution_count": 13,
   "id": "e2eb22b8",
   "metadata": {},
   "outputs": [
    {
     "data": {
      "text/plain": [
       "(2000, 9)"
      ]
     },
     "execution_count": 13,
     "metadata": {},
     "output_type": "execute_result"
    }
   ],
   "source": [
    "csv_txt_combined.shape"
   ]
  },
  {
   "cell_type": "code",
   "execution_count": 14,
   "id": "15a2e32f",
   "metadata": {},
   "outputs": [
    {
     "data": {
      "text/html": [
       "<div>\n",
       "<style scoped>\n",
       "    .dataframe tbody tr th:only-of-type {\n",
       "        vertical-align: middle;\n",
       "    }\n",
       "\n",
       "    .dataframe tbody tr th {\n",
       "        vertical-align: top;\n",
       "    }\n",
       "\n",
       "    .dataframe thead th {\n",
       "        text-align: right;\n",
       "    }\n",
       "</style>\n",
       "<table border=\"1\" class=\"dataframe\">\n",
       "  <thead>\n",
       "    <tr style=\"text-align: right;\">\n",
       "      <th></th>\n",
       "      <th>author.properties.friends</th>\n",
       "      <th>author.properties.status_count</th>\n",
       "      <th>author.properties.verified</th>\n",
       "      <th>content.body</th>\n",
       "      <th>location.country</th>\n",
       "      <th>properties.platform</th>\n",
       "      <th>properties.sentiment</th>\n",
       "      <th>location.latitude</th>\n",
       "      <th>location.longitude</th>\n",
       "    </tr>\n",
       "  </thead>\n",
       "  <tbody>\n",
       "    <tr>\n",
       "      <th>998</th>\n",
       "      <td>2445</td>\n",
       "      <td>3848.00</td>\n",
       "      <td>False</td>\n",
       "      <td>Spent half my childhood watching music channels, never felt so nostalgic ahaha</td>\n",
       "      <td>GB</td>\n",
       "      <td>twitter</td>\n",
       "      <td>-1.00</td>\n",
       "      <td>51.18</td>\n",
       "      <td>-0.61</td>\n",
       "    </tr>\n",
       "    <tr>\n",
       "      <th>999</th>\n",
       "      <td>253</td>\n",
       "      <td>38802.00</td>\n",
       "      <td>False</td>\n",
       "      <td>Who is responsible for this because same https://t.co/L5q648stp4</td>\n",
       "      <td>GB</td>\n",
       "      <td>twitter</td>\n",
       "      <td>-1.00</td>\n",
       "      <td>52.63</td>\n",
       "      <td>-1.13</td>\n",
       "    </tr>\n",
       "    <tr>\n",
       "      <th>0</th>\n",
       "      <td>632</td>\n",
       "      <td>106490.00</td>\n",
       "      <td>False</td>\n",
       "      <td>@moel_bryn https://t.co/qvz1bI2Utb</td>\n",
       "      <td>GB</td>\n",
       "      <td>twitter</td>\n",
       "      <td>0.00</td>\n",
       "      <td>52.12</td>\n",
       "      <td>-2.32</td>\n",
       "    </tr>\n",
       "    <tr>\n",
       "      <th>1</th>\n",
       "      <td>278</td>\n",
       "      <td>31467.00</td>\n",
       "      <td>False</td>\n",
       "      <td>Who wants to rap battle with me on stream tomorrow 👀</td>\n",
       "      <td>GB</td>\n",
       "      <td>twitter</td>\n",
       "      <td>-1.00</td>\n",
       "      <td>51.60</td>\n",
       "      <td>-0.34</td>\n",
       "    </tr>\n",
       "  </tbody>\n",
       "</table>\n",
       "</div>"
      ],
      "text/plain": [
       "    author.properties.friends  author.properties.status_count  \\\n",
       "998                      2445                         3848.00   \n",
       "999                       253                        38802.00   \n",
       "0                         632                       106490.00   \n",
       "1                         278                        31467.00   \n",
       "\n",
       "    author.properties.verified  \\\n",
       "998                      False   \n",
       "999                      False   \n",
       "0                        False   \n",
       "1                        False   \n",
       "\n",
       "                                                                       content.body  \\\n",
       "998  Spent half my childhood watching music channels, never felt so nostalgic ahaha   \n",
       "999                Who is responsible for this because same https://t.co/L5q648stp4   \n",
       "0                                                @moel_bryn https://t.co/qvz1bI2Utb   \n",
       "1                              Who wants to rap battle with me on stream tomorrow 👀   \n",
       "\n",
       "    location.country properties.platform  properties.sentiment  \\\n",
       "998               GB             twitter                 -1.00   \n",
       "999               GB             twitter                 -1.00   \n",
       "0                 GB             twitter                  0.00   \n",
       "1                 GB             twitter                 -1.00   \n",
       "\n",
       "     location.latitude  location.longitude  \n",
       "998              51.18               -0.61  \n",
       "999              52.63               -1.13  \n",
       "0                52.12               -2.32  \n",
       "1                51.60               -0.34  "
      ]
     },
     "execution_count": 14,
     "metadata": {},
     "output_type": "execute_result"
    }
   ],
   "source": [
    "csv_txt_combined[998:1002]"
   ]
  },
  {
   "cell_type": "code",
   "execution_count": 15,
   "id": "0f783ed9",
   "metadata": {},
   "outputs": [
    {
     "data": {
      "text/plain": [
       "Index(['author.properties.friends', 'author.properties.status_count',\n",
       "       'author.properties.verified', 'content.body', 'location.country',\n",
       "       'properties.platform', 'properties.sentiment', 'location.latitude',\n",
       "       'location.longitude'],\n",
       "      dtype='object')"
      ]
     },
     "execution_count": 15,
     "metadata": {},
     "output_type": "execute_result"
    }
   ],
   "source": [
    "csv_txt_combined.columns"
   ]
  },
  {
   "cell_type": "markdown",
   "id": "829a3ce8",
   "metadata": {},
   "source": [
    "### Collating the CSV, TXT and JSON files together"
   ]
  },
  {
   "cell_type": "code",
   "execution_count": 16,
   "id": "6e497cee",
   "metadata": {},
   "outputs": [
    {
     "data": {
      "text/plain": [
       "(3000, 9)"
      ]
     },
     "execution_count": 16,
     "metadata": {},
     "output_type": "execute_result"
    }
   ],
   "source": [
    "csv_txt_json_combined = pd.concat([csv_txt_combined, json_data_normalized])\n",
    "csv_txt_json_combined.shape"
   ]
  },
  {
   "cell_type": "code",
   "execution_count": 18,
   "id": "dffc4346",
   "metadata": {},
   "outputs": [
    {
     "data": {
      "text/html": [
       "<div>\n",
       "<style scoped>\n",
       "    .dataframe tbody tr th:only-of-type {\n",
       "        vertical-align: middle;\n",
       "    }\n",
       "\n",
       "    .dataframe tbody tr th {\n",
       "        vertical-align: top;\n",
       "    }\n",
       "\n",
       "    .dataframe thead th {\n",
       "        text-align: right;\n",
       "    }\n",
       "</style>\n",
       "<table border=\"1\" class=\"dataframe\">\n",
       "  <thead>\n",
       "    <tr style=\"text-align: right;\">\n",
       "      <th></th>\n",
       "      <th>author.properties.friends</th>\n",
       "      <th>author.properties.status_count</th>\n",
       "      <th>author.properties.verified</th>\n",
       "      <th>content.body</th>\n",
       "      <th>location.country</th>\n",
       "      <th>properties.platform</th>\n",
       "      <th>properties.sentiment</th>\n",
       "      <th>location.latitude</th>\n",
       "      <th>location.longitude</th>\n",
       "    </tr>\n",
       "  </thead>\n",
       "  <tbody>\n",
       "    <tr>\n",
       "      <th>998</th>\n",
       "      <td>346</td>\n",
       "      <td>18689.00</td>\n",
       "      <td>False</td>\n",
       "      <td>@Amyyy14 thank u so much Amy you really get me ❤️ I come home tmrw let's get drinks</td>\n",
       "      <td>GB</td>\n",
       "      <td>twitter</td>\n",
       "      <td>1.00</td>\n",
       "      <td>54.79</td>\n",
       "      <td>-1.56</td>\n",
       "    </tr>\n",
       "    <tr>\n",
       "      <th>999</th>\n",
       "      <td>205</td>\n",
       "      <td>2271.00</td>\n",
       "      <td>False</td>\n",
       "      <td>Groves on points https://t.co/qHxgz4Fn8f</td>\n",
       "      <td>GB</td>\n",
       "      <td>twitter</td>\n",
       "      <td>-1.00</td>\n",
       "      <td>52.19</td>\n",
       "      <td>-1.70</td>\n",
       "    </tr>\n",
       "    <tr>\n",
       "      <th>0</th>\n",
       "      <td>150</td>\n",
       "      <td>583.00</td>\n",
       "      <td>False</td>\n",
       "      <td>To everyone tryin to snapchat me fuck off I'm ugly</td>\n",
       "      <td>GB</td>\n",
       "      <td>twitter</td>\n",
       "      <td>-1.00</td>\n",
       "      <td>53.38</td>\n",
       "      <td>-1.45</td>\n",
       "    </tr>\n",
       "    <tr>\n",
       "      <th>1</th>\n",
       "      <td>1321</td>\n",
       "      <td>86271.00</td>\n",
       "      <td>False</td>\n",
       "      <td>@cammiescott have you ever been to Scotland? You should give Nessie a wee visit! (I live near her) #askcamscott</td>\n",
       "      <td>GB</td>\n",
       "      <td>twitter</td>\n",
       "      <td>-1.00</td>\n",
       "      <td>57.79</td>\n",
       "      <td>-4.20</td>\n",
       "    </tr>\n",
       "  </tbody>\n",
       "</table>\n",
       "</div>"
      ],
      "text/plain": [
       "    author.properties.friends  author.properties.status_count  \\\n",
       "998                       346                        18689.00   \n",
       "999                       205                         2271.00   \n",
       "0                         150                          583.00   \n",
       "1                        1321                        86271.00   \n",
       "\n",
       "    author.properties.verified  \\\n",
       "998                      False   \n",
       "999                      False   \n",
       "0                        False   \n",
       "1                        False   \n",
       "\n",
       "                                                                                                        content.body  \\\n",
       "998                              @Amyyy14 thank u so much Amy you really get me ❤️ I come home tmrw let's get drinks   \n",
       "999                                                                         Groves on points https://t.co/qHxgz4Fn8f   \n",
       "0                                                                 To everyone tryin to snapchat me fuck off I'm ugly   \n",
       "1    @cammiescott have you ever been to Scotland? You should give Nessie a wee visit! (I live near her) #askcamscott   \n",
       "\n",
       "    location.country properties.platform  properties.sentiment  \\\n",
       "998               GB             twitter                  1.00   \n",
       "999               GB             twitter                 -1.00   \n",
       "0                 GB             twitter                 -1.00   \n",
       "1                 GB             twitter                 -1.00   \n",
       "\n",
       "     location.latitude  location.longitude  \n",
       "998              54.79               -1.56  \n",
       "999              52.19               -1.70  \n",
       "0                53.38               -1.45  \n",
       "1                57.79               -4.20  "
      ]
     },
     "execution_count": 18,
     "metadata": {},
     "output_type": "execute_result"
    }
   ],
   "source": [
    "csv_txt_json_combined[1998:2002]"
   ]
  },
  {
   "cell_type": "code",
   "execution_count": 21,
   "id": "50ea9722",
   "metadata": {},
   "outputs": [],
   "source": [
    "csv_txt_json_combined.to_csv(os.path.join(save_path,'combined_data.csv'), index=False)"
   ]
  },
  {
   "cell_type": "code",
   "execution_count": 22,
   "id": "fce00e63",
   "metadata": {},
   "outputs": [],
   "source": [
    "#df.to_csv(os.path.join('myfolder','yourfilename.csv'))"
   ]
  },
  {
   "cell_type": "code",
   "execution_count": null,
   "id": "91e9a812",
   "metadata": {},
   "outputs": [],
   "source": []
  }
 ],
 "metadata": {
  "kernelspec": {
   "display_name": "Python 3 (ipykernel)",
   "language": "python",
   "name": "python3"
  },
  "language_info": {
   "codemirror_mode": {
    "name": "ipython",
    "version": 3
   },
   "file_extension": ".py",
   "mimetype": "text/x-python",
   "name": "python",
   "nbconvert_exporter": "python",
   "pygments_lexer": "ipython3",
   "version": "3.8.16"
  }
 },
 "nbformat": 4,
 "nbformat_minor": 5
}
