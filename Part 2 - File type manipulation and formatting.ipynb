{
 "cells": [
  {
   "cell_type": "markdown",
   "id": "554883eb",
   "metadata": {},
   "source": [
    "## DATA HACKERMAN FINAL PROJECT"
   ]
  },
  {
   "cell_type": "markdown",
   "id": "56a1e770",
   "metadata": {},
   "source": [
    "### PART 2 - _File type manipulation and formatting_"
   ]
  },
  {
   "cell_type": "markdown",
   "id": "7ca6fb80",
   "metadata": {},
   "source": [
    "Three files are presented, one CSV, one TXT and one JSON file. Each contain 1000 rows of data. There are two challenges, both involving collating these files into one data frame. The fields in all files are:\n",
    "\n",
    "   - 'author.properties.friends',  'author.properties.status_count',  'author.properties.verified',  'content.body',  'location.country',  'properties.platform',  'properties.sentiment',  'location.latitude',  'location.longitude' where the ‘.’ Indicates a nested field.\n",
    " \n",
    "a) Collate the CSV and TXT files together into one pandas dataframe (dataframe should be 2000 rows and have all of the columns present in both files)\n",
    "\n",
    "b) Use the created dataframe, integrate the data from the JSON file into the existing columns. The resulting dataframe should now be 3000 rows long."
   ]
  },
  {
   "cell_type": "code",
   "execution_count": 1,
   "id": "5f362876",
   "metadata": {},
   "outputs": [
    {
     "data": {
      "text/html": [
       "<style>.container { width:100% !important; }</style>"
      ],
      "text/plain": [
       "<IPython.core.display.HTML object>"
      ]
     },
     "metadata": {},
     "output_type": "display_data"
    }
   ],
   "source": [
    "import pandas as pd\n",
    "import json\n",
    "\n",
    "pd.set_option(\"display.max_columns\", None)\n",
    "pd.set_option(\"display.max_rows\", None)\n",
    "pd.options.display.max_colwidth = None\n",
    "pd.set_option(\"display.float_format\", lambda x: '%.2f' % x)\n",
    "\n",
    "from IPython.display import display, HTML\n",
    "display(HTML(\"<style>.container { width:100% !important; }</style>\"))\n",
    "\n",
    "from data_ingestion.ingest import get_data\n",
    "from parameters.params import csv_file_path, text_file_path, json_file_path "
   ]
  },
  {
   "cell_type": "markdown",
   "id": "5c697e1c",
   "metadata": {},
   "source": [
    "### Read in Data"
   ]
  },
  {
   "cell_type": "markdown",
   "id": "3fab9b99",
   "metadata": {},
   "source": [
    "**CSV DATA**"
   ]
  },
  {
   "cell_type": "code",
   "execution_count": 2,
   "id": "b2d83316",
   "metadata": {},
   "outputs": [
    {
     "data": {
      "text/html": [
       "<div>\n",
       "<style scoped>\n",
       "    .dataframe tbody tr th:only-of-type {\n",
       "        vertical-align: middle;\n",
       "    }\n",
       "\n",
       "    .dataframe tbody tr th {\n",
       "        vertical-align: top;\n",
       "    }\n",
       "\n",
       "    .dataframe thead th {\n",
       "        text-align: right;\n",
       "    }\n",
       "</style>\n",
       "<table border=\"1\" class=\"dataframe\">\n",
       "  <thead>\n",
       "    <tr style=\"text-align: right;\">\n",
       "      <th></th>\n",
       "      <th>author.properties.friends</th>\n",
       "      <th>author.properties.status_count</th>\n",
       "      <th>author.properties.verified</th>\n",
       "      <th>content.body</th>\n",
       "      <th>location.country</th>\n",
       "      <th>properties.platform</th>\n",
       "      <th>properties.sentiment</th>\n",
       "      <th>location.latitude</th>\n",
       "      <th>location.longitude</th>\n",
       "    </tr>\n",
       "  </thead>\n",
       "  <tbody>\n",
       "    <tr>\n",
       "      <th>155</th>\n",
       "      <td>2382</td>\n",
       "      <td>66234</td>\n",
       "      <td>False</td>\n",
       "      <td>Putlocker blocked now. And couch tuner</td>\n",
       "      <td>GB</td>\n",
       "      <td>twitter</td>\n",
       "      <td>1</td>\n",
       "      <td>52.97</td>\n",
       "      <td>-1.17</td>\n",
       "    </tr>\n",
       "    <tr>\n",
       "      <th>120</th>\n",
       "      <td>52</td>\n",
       "      <td>881</td>\n",
       "      <td>False</td>\n",
       "      <td>@TedWall4 Sanders? https://t.co/Bl9Em2WCUN</td>\n",
       "      <td>GB</td>\n",
       "      <td>twitter</td>\n",
       "      <td>0</td>\n",
       "      <td>53.32</td>\n",
       "      <td>-2.23</td>\n",
       "    </tr>\n",
       "  </tbody>\n",
       "</table>\n",
       "</div>"
      ],
      "text/plain": [
       "     author.properties.friends  author.properties.status_count  \\\n",
       "155                       2382                           66234   \n",
       "120                         52                             881   \n",
       "\n",
       "     author.properties.verified                                content.body  \\\n",
       "155                       False      Putlocker blocked now. And couch tuner   \n",
       "120                       False  @TedWall4 Sanders? https://t.co/Bl9Em2WCUN   \n",
       "\n",
       "    location.country properties.platform  properties.sentiment  \\\n",
       "155               GB             twitter                     1   \n",
       "120               GB             twitter                     0   \n",
       "\n",
       "     location.latitude  location.longitude  \n",
       "155              52.97               -1.17  \n",
       "120              53.32               -2.23  "
      ]
     },
     "execution_count": 2,
     "metadata": {},
     "output_type": "execute_result"
    }
   ],
   "source": [
    "csv_data = get_data(csv_file_path)\n",
    "csv_data.sample(2)"
   ]
  },
  {
   "cell_type": "code",
   "execution_count": 3,
   "id": "ac4b91c3",
   "metadata": {},
   "outputs": [
    {
     "data": {
      "text/plain": [
       "Index(['author.properties.friends', 'author.properties.status_count',\n",
       "       'author.properties.verified', 'content.body', 'location.country',\n",
       "       'properties.platform', 'properties.sentiment', 'location.latitude',\n",
       "       'location.longitude'],\n",
       "      dtype='object')"
      ]
     },
     "execution_count": 3,
     "metadata": {},
     "output_type": "execute_result"
    }
   ],
   "source": [
    "csv_data.columns"
   ]
  },
  {
   "cell_type": "code",
   "execution_count": 4,
   "id": "330a462f",
   "metadata": {},
   "outputs": [
    {
     "data": {
      "text/plain": [
       "(1000, 9)"
      ]
     },
     "execution_count": 4,
     "metadata": {},
     "output_type": "execute_result"
    }
   ],
   "source": [
    "csv_data.shape"
   ]
  },
  {
   "cell_type": "markdown",
   "id": "04d4b65b",
   "metadata": {},
   "source": [
    "**TXT DATA**"
   ]
  },
  {
   "cell_type": "code",
   "execution_count": 5,
   "id": "069fb2ac",
   "metadata": {},
   "outputs": [
    {
     "data": {
      "text/html": [
       "<div>\n",
       "<style scoped>\n",
       "    .dataframe tbody tr th:only-of-type {\n",
       "        vertical-align: middle;\n",
       "    }\n",
       "\n",
       "    .dataframe tbody tr th {\n",
       "        vertical-align: top;\n",
       "    }\n",
       "\n",
       "    .dataframe thead th {\n",
       "        text-align: right;\n",
       "    }\n",
       "</style>\n",
       "<table border=\"1\" class=\"dataframe\">\n",
       "  <thead>\n",
       "    <tr style=\"text-align: right;\">\n",
       "      <th></th>\n",
       "      <th>author.properties.friends</th>\n",
       "      <th>author.properties.verified</th>\n",
       "      <th>location.longitude</th>\n",
       "      <th>author.properties.status_count</th>\n",
       "      <th>properties.sentiment</th>\n",
       "      <th>location.latitude</th>\n",
       "      <th>location.country</th>\n",
       "      <th>content.body</th>\n",
       "      <th>properties.platform</th>\n",
       "    </tr>\n",
       "  </thead>\n",
       "  <tbody>\n",
       "    <tr>\n",
       "      <th>249</th>\n",
       "      <td>643</td>\n",
       "      <td>False</td>\n",
       "      <td>-1.14</td>\n",
       "      <td>80968.00</td>\n",
       "      <td>0.00</td>\n",
       "      <td>53.52</td>\n",
       "      <td>GB</td>\n",
       "      <td>Oreo hoe😎 https://t.co/7JF0LvRLyZ</td>\n",
       "      <td>twitter</td>\n",
       "    </tr>\n",
       "    <tr>\n",
       "      <th>107</th>\n",
       "      <td>1090</td>\n",
       "      <td>False</td>\n",
       "      <td>0.29</td>\n",
       "      <td>16316.00</td>\n",
       "      <td>0.00</td>\n",
       "      <td>50.78</td>\n",
       "      <td>GB</td>\n",
       "      <td>@rositastef criticise many countries on human rights, Israel has no exceptions, nation states have a duty to seek a peace process</td>\n",
       "      <td>twitter</td>\n",
       "    </tr>\n",
       "  </tbody>\n",
       "</table>\n",
       "</div>"
      ],
      "text/plain": [
       "    author.properties.friends author.properties.verified  location.longitude  \\\n",
       "249                       643                      False               -1.14   \n",
       "107                      1090                      False                0.29   \n",
       "\n",
       "     author.properties.status_count  properties.sentiment  location.latitude  \\\n",
       "249                        80968.00                  0.00              53.52   \n",
       "107                        16316.00                  0.00              50.78   \n",
       "\n",
       "    location.country  \\\n",
       "249               GB   \n",
       "107               GB   \n",
       "\n",
       "                                                                                                                          content.body  \\\n",
       "249                                                                                                  Oreo hoe😎 https://t.co/7JF0LvRLyZ   \n",
       "107  @rositastef criticise many countries on human rights, Israel has no exceptions, nation states have a duty to seek a peace process   \n",
       "\n",
       "    properties.platform  \n",
       "249             twitter  \n",
       "107             twitter  "
      ]
     },
     "execution_count": 5,
     "metadata": {},
     "output_type": "execute_result"
    }
   ],
   "source": [
    "txt_data = get_data(text_file_path)\n",
    "txt_data.sample(2)"
   ]
  },
  {
   "cell_type": "code",
   "execution_count": 6,
   "id": "d5ed3a72",
   "metadata": {},
   "outputs": [
    {
     "data": {
      "text/plain": [
       "Index(['author.properties.friends', 'author.properties.verified',\n",
       "       'location.longitude', 'author.properties.status_count',\n",
       "       'properties.sentiment', 'location.latitude', 'location.country',\n",
       "       'content.body', 'properties.platform'],\n",
       "      dtype='object')"
      ]
     },
     "execution_count": 6,
     "metadata": {},
     "output_type": "execute_result"
    }
   ],
   "source": [
    "txt_data.columns"
   ]
  },
  {
   "cell_type": "code",
   "execution_count": 7,
   "id": "b870b36d",
   "metadata": {},
   "outputs": [
    {
     "data": {
      "text/plain": [
       "(1000, 9)"
      ]
     },
     "execution_count": 7,
     "metadata": {},
     "output_type": "execute_result"
    }
   ],
   "source": [
    "txt_data.shape"
   ]
  },
  {
   "cell_type": "markdown",
   "id": "37c4f10e",
   "metadata": {},
   "source": [
    "**JSON DATA**"
   ]
  },
  {
   "cell_type": "code",
   "execution_count": 8,
   "id": "b1088232",
   "metadata": {},
   "outputs": [
    {
     "data": {
      "text/plain": [
       "{'author': {'properties': {'friends': 150,\n",
       "   'verified': False,\n",
       "   'status_count': 583}},\n",
       " 'location': {'longitude': -1.4496120000000003,\n",
       "  'country': 'GB',\n",
       "  'latitude': 53.38322877572023},\n",
       " 'content': {'body': \"To everyone tryin to snapchat me fuck off I'm ugly\"},\n",
       " 'properties': {'sentiment': -1, 'platform': 'twitter'}}"
      ]
     },
     "execution_count": 8,
     "metadata": {},
     "output_type": "execute_result"
    }
   ],
   "source": [
    "json_data = get_data(json_file_path)\n",
    "json_data[0]"
   ]
  },
  {
   "cell_type": "code",
   "execution_count": 9,
   "id": "2c8b15c0",
   "metadata": {},
   "outputs": [
    {
     "data": {
      "text/html": [
       "<div>\n",
       "<style scoped>\n",
       "    .dataframe tbody tr th:only-of-type {\n",
       "        vertical-align: middle;\n",
       "    }\n",
       "\n",
       "    .dataframe tbody tr th {\n",
       "        vertical-align: top;\n",
       "    }\n",
       "\n",
       "    .dataframe thead th {\n",
       "        text-align: right;\n",
       "    }\n",
       "</style>\n",
       "<table border=\"1\" class=\"dataframe\">\n",
       "  <thead>\n",
       "    <tr style=\"text-align: right;\">\n",
       "      <th></th>\n",
       "      <th>author.properties.friends</th>\n",
       "      <th>author.properties.verified</th>\n",
       "      <th>author.properties.status_count</th>\n",
       "      <th>location.longitude</th>\n",
       "      <th>location.country</th>\n",
       "      <th>location.latitude</th>\n",
       "      <th>content.body</th>\n",
       "      <th>properties.sentiment</th>\n",
       "      <th>properties.platform</th>\n",
       "    </tr>\n",
       "  </thead>\n",
       "  <tbody>\n",
       "    <tr>\n",
       "      <th>113</th>\n",
       "      <td>396</td>\n",
       "      <td>False</td>\n",
       "      <td>20869</td>\n",
       "      <td>-2.13</td>\n",
       "      <td>GB</td>\n",
       "      <td>57.16</td>\n",
       "      <td>If someone could invent a way for me to do my makeup at night n it be the same when I wake up for work in the morning that'd be sweet thanks</td>\n",
       "      <td>-1</td>\n",
       "      <td>twitter</td>\n",
       "    </tr>\n",
       "    <tr>\n",
       "      <th>13</th>\n",
       "      <td>894</td>\n",
       "      <td>False</td>\n",
       "      <td>32005</td>\n",
       "      <td>-1.09</td>\n",
       "      <td>GB</td>\n",
       "      <td>53.97</td>\n",
       "      <td>It's been an exceedingly long day of very mixed emotions. I'm tired and hungry so I've opted for an nice aromatic crispy duck 😜</td>\n",
       "      <td>1</td>\n",
       "      <td>twitter</td>\n",
       "    </tr>\n",
       "  </tbody>\n",
       "</table>\n",
       "</div>"
      ],
      "text/plain": [
       "     author.properties.friends  author.properties.verified  \\\n",
       "113                        396                       False   \n",
       "13                         894                       False   \n",
       "\n",
       "     author.properties.status_count  location.longitude location.country  \\\n",
       "113                           20869               -2.13               GB   \n",
       "13                            32005               -1.09               GB   \n",
       "\n",
       "     location.latitude  \\\n",
       "113              57.16   \n",
       "13               53.97   \n",
       "\n",
       "                                                                                                                                     content.body  \\\n",
       "113  If someone could invent a way for me to do my makeup at night n it be the same when I wake up for work in the morning that'd be sweet thanks   \n",
       "13                It's been an exceedingly long day of very mixed emotions. I'm tired and hungry so I've opted for an nice aromatic crispy duck 😜   \n",
       "\n",
       "     properties.sentiment properties.platform  \n",
       "113                    -1             twitter  \n",
       "13                      1             twitter  "
      ]
     },
     "execution_count": 9,
     "metadata": {},
     "output_type": "execute_result"
    }
   ],
   "source": [
    "json_data_normalized = pd.json_normalize(json_data)\n",
    "json_data_normalized.sample(2)"
   ]
  },
  {
   "cell_type": "code",
   "execution_count": 10,
   "id": "19dde6c4",
   "metadata": {},
   "outputs": [
    {
     "data": {
      "text/plain": [
       "(1000, 9)"
      ]
     },
     "execution_count": 10,
     "metadata": {},
     "output_type": "execute_result"
    }
   ],
   "source": [
    "json_data_normalized.shape"
   ]
  },
  {
   "cell_type": "markdown",
   "id": "fbbcaeb4",
   "metadata": {},
   "source": [
    "### Collating the CSV and TXT files together"
   ]
  },
  {
   "cell_type": "code",
   "execution_count": 11,
   "id": "4ea9137b",
   "metadata": {},
   "outputs": [],
   "source": [
    "csv_txt_combined = pd.concat([csv_data, txt_data])"
   ]
  },
  {
   "cell_type": "code",
   "execution_count": 12,
   "id": "4f44add7",
   "metadata": {},
   "outputs": [
    {
     "data": {
      "text/plain": [
       "(2000, 9)"
      ]
     },
     "execution_count": 12,
     "metadata": {},
     "output_type": "execute_result"
    }
   ],
   "source": [
    "csv_txt_combined.shape"
   ]
  },
  {
   "cell_type": "code",
   "execution_count": 13,
   "id": "c49065e2",
   "metadata": {},
   "outputs": [
    {
     "data": {
      "text/html": [
       "<div>\n",
       "<style scoped>\n",
       "    .dataframe tbody tr th:only-of-type {\n",
       "        vertical-align: middle;\n",
       "    }\n",
       "\n",
       "    .dataframe tbody tr th {\n",
       "        vertical-align: top;\n",
       "    }\n",
       "\n",
       "    .dataframe thead th {\n",
       "        text-align: right;\n",
       "    }\n",
       "</style>\n",
       "<table border=\"1\" class=\"dataframe\">\n",
       "  <thead>\n",
       "    <tr style=\"text-align: right;\">\n",
       "      <th></th>\n",
       "      <th>author.properties.friends</th>\n",
       "      <th>author.properties.status_count</th>\n",
       "      <th>author.properties.verified</th>\n",
       "      <th>content.body</th>\n",
       "      <th>location.country</th>\n",
       "      <th>properties.platform</th>\n",
       "      <th>properties.sentiment</th>\n",
       "      <th>location.latitude</th>\n",
       "      <th>location.longitude</th>\n",
       "    </tr>\n",
       "  </thead>\n",
       "  <tbody>\n",
       "    <tr>\n",
       "      <th>998</th>\n",
       "      <td>2445</td>\n",
       "      <td>3848.00</td>\n",
       "      <td>False</td>\n",
       "      <td>Spent half my childhood watching music channels, never felt so nostalgic ahaha</td>\n",
       "      <td>GB</td>\n",
       "      <td>twitter</td>\n",
       "      <td>-1.00</td>\n",
       "      <td>51.18</td>\n",
       "      <td>-0.61</td>\n",
       "    </tr>\n",
       "    <tr>\n",
       "      <th>999</th>\n",
       "      <td>253</td>\n",
       "      <td>38802.00</td>\n",
       "      <td>False</td>\n",
       "      <td>Who is responsible for this because same https://t.co/L5q648stp4</td>\n",
       "      <td>GB</td>\n",
       "      <td>twitter</td>\n",
       "      <td>-1.00</td>\n",
       "      <td>52.63</td>\n",
       "      <td>-1.13</td>\n",
       "    </tr>\n",
       "    <tr>\n",
       "      <th>0</th>\n",
       "      <td>632</td>\n",
       "      <td>106490.00</td>\n",
       "      <td>False</td>\n",
       "      <td>@moel_bryn https://t.co/qvz1bI2Utb</td>\n",
       "      <td>GB</td>\n",
       "      <td>twitter</td>\n",
       "      <td>0.00</td>\n",
       "      <td>52.12</td>\n",
       "      <td>-2.32</td>\n",
       "    </tr>\n",
       "    <tr>\n",
       "      <th>1</th>\n",
       "      <td>278</td>\n",
       "      <td>31467.00</td>\n",
       "      <td>False</td>\n",
       "      <td>Who wants to rap battle with me on stream tomorrow 👀</td>\n",
       "      <td>GB</td>\n",
       "      <td>twitter</td>\n",
       "      <td>-1.00</td>\n",
       "      <td>51.60</td>\n",
       "      <td>-0.34</td>\n",
       "    </tr>\n",
       "  </tbody>\n",
       "</table>\n",
       "</div>"
      ],
      "text/plain": [
       "    author.properties.friends  author.properties.status_count  \\\n",
       "998                      2445                         3848.00   \n",
       "999                       253                        38802.00   \n",
       "0                         632                       106490.00   \n",
       "1                         278                        31467.00   \n",
       "\n",
       "    author.properties.verified  \\\n",
       "998                      False   \n",
       "999                      False   \n",
       "0                        False   \n",
       "1                        False   \n",
       "\n",
       "                                                                       content.body  \\\n",
       "998  Spent half my childhood watching music channels, never felt so nostalgic ahaha   \n",
       "999                Who is responsible for this because same https://t.co/L5q648stp4   \n",
       "0                                                @moel_bryn https://t.co/qvz1bI2Utb   \n",
       "1                              Who wants to rap battle with me on stream tomorrow 👀   \n",
       "\n",
       "    location.country properties.platform  properties.sentiment  \\\n",
       "998               GB             twitter                 -1.00   \n",
       "999               GB             twitter                 -1.00   \n",
       "0                 GB             twitter                  0.00   \n",
       "1                 GB             twitter                 -1.00   \n",
       "\n",
       "     location.latitude  location.longitude  \n",
       "998              51.18               -0.61  \n",
       "999              52.63               -1.13  \n",
       "0                52.12               -2.32  \n",
       "1                51.60               -0.34  "
      ]
     },
     "execution_count": 13,
     "metadata": {},
     "output_type": "execute_result"
    }
   ],
   "source": [
    "csv_txt_combined[998:1002]"
   ]
  },
  {
   "cell_type": "code",
   "execution_count": 14,
   "id": "e3e20774",
   "metadata": {},
   "outputs": [
    {
     "data": {
      "text/plain": [
       "Index(['author.properties.friends', 'author.properties.status_count',\n",
       "       'author.properties.verified', 'content.body', 'location.country',\n",
       "       'properties.platform', 'properties.sentiment', 'location.latitude',\n",
       "       'location.longitude'],\n",
       "      dtype='object')"
      ]
     },
     "execution_count": 14,
     "metadata": {},
     "output_type": "execute_result"
    }
   ],
   "source": [
    "csv_txt_combined.columns"
   ]
  },
  {
   "cell_type": "markdown",
   "id": "f5b36400",
   "metadata": {},
   "source": [
    "### Collating the CSV, TXT and JSON files together"
   ]
  },
  {
   "cell_type": "code",
   "execution_count": 15,
   "id": "d5882ca4",
   "metadata": {},
   "outputs": [
    {
     "data": {
      "text/plain": [
       "(3000, 9)"
      ]
     },
     "execution_count": 15,
     "metadata": {},
     "output_type": "execute_result"
    }
   ],
   "source": [
    "csv_txt_json_combined = pd.concat([csv_txt_combined, json_data_normalized])\n",
    "csv_txt_json_combined.shape"
   ]
  },
  {
   "cell_type": "code",
   "execution_count": null,
   "id": "a86ffcf7",
   "metadata": {},
   "outputs": [],
   "source": []
  }
 ],
 "metadata": {
  "kernelspec": {
   "display_name": "Python 3 (ipykernel)",
   "language": "python",
   "name": "python3"
  },
  "language_info": {
   "codemirror_mode": {
    "name": "ipython",
    "version": 3
   },
   "file_extension": ".py",
   "mimetype": "text/x-python",
   "name": "python",
   "nbconvert_exporter": "python",
   "pygments_lexer": "ipython3",
   "version": "3.8.16"
  }
 },
 "nbformat": 4,
 "nbformat_minor": 5
}
