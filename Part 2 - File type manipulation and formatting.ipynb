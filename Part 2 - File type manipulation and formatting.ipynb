{
 "cells": [
  {
   "cell_type": "markdown",
   "id": "554883eb",
   "metadata": {},
   "source": [
    "## DATA HACKERMAN FINAL PROJECT"
   ]
  },
  {
   "cell_type": "markdown",
   "id": "56a1e770",
   "metadata": {},
   "source": [
    "### PART 2 - _File type manipulation and formatting_"
   ]
  },
  {
   "cell_type": "markdown",
   "id": "7ca6fb80",
   "metadata": {},
   "source": [
    "Three files are presented, one CSV, one TXT and one JSON file. Each contain 1000 rows of data. There are two challenges, both involving collating these files into one data frame. The fields in all files are:\n",
    "\n",
    "   - 'author.properties.friends',  'author.properties.status_count',  'author.properties.verified',  'content.body',  'location.country',  'properties.platform',  'properties.sentiment',  'location.latitude',  'location.longitude' where the ‘.’ Indicates a nested field.\n",
    " \n",
    "a) Collate the CSV and TXT files together into one pandas dataframe (dataframe should be 2000 rows and have all of the columns present in both files)\n",
    "\n",
    "b) Use the created dataframe, integrate the data from the JSON file into the existing columns. The resulting dataframe should now be 3000 rows long."
   ]
  },
  {
   "cell_type": "code",
   "execution_count": 1,
   "id": "5f362876",
   "metadata": {},
   "outputs": [
    {
     "data": {
      "text/html": [
       "<style>.container { width:100% !important; }</style>"
      ],
      "text/plain": [
       "<IPython.core.display.HTML object>"
      ]
     },
     "metadata": {},
     "output_type": "display_data"
    }
   ],
   "source": [
    "import pandas as pd\n",
    "import json\n",
    "\n",
    "pd.set_option(\"display.max_columns\", None)\n",
    "pd.set_option(\"display.max_rows\", None)\n",
    "pd.options.display.max_colwidth = None\n",
    "pd.set_option(\"display.float_format\", lambda x: '%.2f' % x)\n",
    "\n",
    "from IPython.display import display, HTML\n",
    "display(HTML(\"<style>.container { width:100% !important; }</style>\"))\n",
    "\n",
    "from data_ingestion.ingest import get_data\n",
    "from parameters.params import csv_file_path, text_file_path, json_file_path "
   ]
  },
  {
   "cell_type": "markdown",
   "id": "4e0afb51",
   "metadata": {},
   "source": [
    "### Read in Data"
   ]
  },
  {
   "cell_type": "markdown",
   "id": "11a53cdd",
   "metadata": {},
   "source": [
    "**CSV DATA**"
   ]
  },
  {
   "cell_type": "code",
   "execution_count": 2,
   "id": "b2d83316",
   "metadata": {},
   "outputs": [
    {
     "data": {
      "text/html": [
       "<div>\n",
       "<style scoped>\n",
       "    .dataframe tbody tr th:only-of-type {\n",
       "        vertical-align: middle;\n",
       "    }\n",
       "\n",
       "    .dataframe tbody tr th {\n",
       "        vertical-align: top;\n",
       "    }\n",
       "\n",
       "    .dataframe thead th {\n",
       "        text-align: right;\n",
       "    }\n",
       "</style>\n",
       "<table border=\"1\" class=\"dataframe\">\n",
       "  <thead>\n",
       "    <tr style=\"text-align: right;\">\n",
       "      <th></th>\n",
       "      <th>author.properties.friends</th>\n",
       "      <th>author.properties.status_count</th>\n",
       "      <th>author.properties.verified</th>\n",
       "      <th>content.body</th>\n",
       "      <th>location.country</th>\n",
       "      <th>properties.platform</th>\n",
       "      <th>properties.sentiment</th>\n",
       "      <th>location.latitude</th>\n",
       "      <th>location.longitude</th>\n",
       "    </tr>\n",
       "  </thead>\n",
       "  <tbody>\n",
       "    <tr>\n",
       "      <th>93</th>\n",
       "      <td>606</td>\n",
       "      <td>5211</td>\n",
       "      <td>False</td>\n",
       "      <td>@Lewis27Russell nah ur alright</td>\n",
       "      <td>GB</td>\n",
       "      <td>twitter</td>\n",
       "      <td>-1</td>\n",
       "      <td>55.87</td>\n",
       "      <td>-3.51</td>\n",
       "    </tr>\n",
       "    <tr>\n",
       "      <th>798</th>\n",
       "      <td>2008</td>\n",
       "      <td>15276</td>\n",
       "      <td>False</td>\n",
       "      <td>I can't eat cheese balls without having like 4 of them in my hand</td>\n",
       "      <td>GB</td>\n",
       "      <td>twitter</td>\n",
       "      <td>1</td>\n",
       "      <td>53.80</td>\n",
       "      <td>-1.57</td>\n",
       "    </tr>\n",
       "  </tbody>\n",
       "</table>\n",
       "</div>"
      ],
      "text/plain": [
       "     author.properties.friends  author.properties.status_count  \\\n",
       "93                         606                            5211   \n",
       "798                       2008                           15276   \n",
       "\n",
       "     author.properties.verified  \\\n",
       "93                        False   \n",
       "798                       False   \n",
       "\n",
       "                                                          content.body  \\\n",
       "93                                      @Lewis27Russell nah ur alright   \n",
       "798  I can't eat cheese balls without having like 4 of them in my hand   \n",
       "\n",
       "    location.country properties.platform  properties.sentiment  \\\n",
       "93                GB             twitter                    -1   \n",
       "798               GB             twitter                     1   \n",
       "\n",
       "     location.latitude  location.longitude  \n",
       "93               55.87               -3.51  \n",
       "798              53.80               -1.57  "
      ]
     },
     "execution_count": 2,
     "metadata": {},
     "output_type": "execute_result"
    }
   ],
   "source": [
    "csv_data = get_data(csv_file_path)\n",
    "csv_data.sample(2)"
   ]
  },
  {
   "cell_type": "code",
   "execution_count": 3,
   "id": "ac4b91c3",
   "metadata": {},
   "outputs": [
    {
     "data": {
      "text/plain": [
       "Index(['author.properties.friends', 'author.properties.status_count',\n",
       "       'author.properties.verified', 'content.body', 'location.country',\n",
       "       'properties.platform', 'properties.sentiment', 'location.latitude',\n",
       "       'location.longitude'],\n",
       "      dtype='object')"
      ]
     },
     "execution_count": 3,
     "metadata": {},
     "output_type": "execute_result"
    }
   ],
   "source": [
    "csv_data.columns"
   ]
  },
  {
   "cell_type": "code",
   "execution_count": 4,
   "id": "ff97a1d0",
   "metadata": {},
   "outputs": [
    {
     "data": {
      "text/plain": [
       "(1000, 9)"
      ]
     },
     "execution_count": 4,
     "metadata": {},
     "output_type": "execute_result"
    }
   ],
   "source": [
    "csv_data.shape"
   ]
  },
  {
   "cell_type": "markdown",
   "id": "f8d79c2b",
   "metadata": {},
   "source": [
    "**TXT DATA**"
   ]
  },
  {
   "cell_type": "code",
   "execution_count": 5,
   "id": "bd755d0d",
   "metadata": {},
   "outputs": [
    {
     "data": {
      "text/html": [
       "<div>\n",
       "<style scoped>\n",
       "    .dataframe tbody tr th:only-of-type {\n",
       "        vertical-align: middle;\n",
       "    }\n",
       "\n",
       "    .dataframe tbody tr th {\n",
       "        vertical-align: top;\n",
       "    }\n",
       "\n",
       "    .dataframe thead th {\n",
       "        text-align: right;\n",
       "    }\n",
       "</style>\n",
       "<table border=\"1\" class=\"dataframe\">\n",
       "  <thead>\n",
       "    <tr style=\"text-align: right;\">\n",
       "      <th></th>\n",
       "      <th>author.properties.friends</th>\n",
       "      <th>author.properties.verified</th>\n",
       "      <th>location.longitude</th>\n",
       "      <th>author.properties.status_count</th>\n",
       "      <th>properties.sentiment</th>\n",
       "      <th>location.latitude</th>\n",
       "      <th>location.country</th>\n",
       "      <th>content.body</th>\n",
       "      <th>properties.platform</th>\n",
       "    </tr>\n",
       "  </thead>\n",
       "  <tbody>\n",
       "    <tr>\n",
       "      <th>234</th>\n",
       "      <td>900</td>\n",
       "      <td>False</td>\n",
       "      <td>-2.78</td>\n",
       "      <td>18933.00</td>\n",
       "      <td>-1.00</td>\n",
       "      <td>54.07</td>\n",
       "      <td>GB</td>\n",
       "      <td>@GeorgeAylett must be the first time we've agreed on something ;)</td>\n",
       "      <td>twitter</td>\n",
       "    </tr>\n",
       "    <tr>\n",
       "      <th>431</th>\n",
       "      <td>1240</td>\n",
       "      <td>False</td>\n",
       "      <td>-3.71</td>\n",
       "      <td>46152.00</td>\n",
       "      <td>0.00</td>\n",
       "      <td>56.01</td>\n",
       "      <td>GB</td>\n",
       "      <td>😠😠😠😠</td>\n",
       "      <td>twitter</td>\n",
       "    </tr>\n",
       "  </tbody>\n",
       "</table>\n",
       "</div>"
      ],
      "text/plain": [
       "    author.properties.friends author.properties.verified  location.longitude  \\\n",
       "234                       900                      False               -2.78   \n",
       "431                      1240                      False               -3.71   \n",
       "\n",
       "     author.properties.status_count  properties.sentiment  location.latitude  \\\n",
       "234                        18933.00                 -1.00              54.07   \n",
       "431                        46152.00                  0.00              56.01   \n",
       "\n",
       "    location.country  \\\n",
       "234               GB   \n",
       "431               GB   \n",
       "\n",
       "                                                          content.body  \\\n",
       "234  @GeorgeAylett must be the first time we've agreed on something ;)   \n",
       "431                                                               😠😠😠😠   \n",
       "\n",
       "    properties.platform  \n",
       "234             twitter  \n",
       "431             twitter  "
      ]
     },
     "execution_count": 5,
     "metadata": {},
     "output_type": "execute_result"
    }
   ],
   "source": [
    "txt_data = get_data(text_file_path)\n",
    "txt_data.sample(2)"
   ]
  },
  {
   "cell_type": "code",
   "execution_count": 6,
   "id": "c4c6e40c",
   "metadata": {},
   "outputs": [
    {
     "data": {
      "text/plain": [
       "Index(['author.properties.friends', 'author.properties.verified',\n",
       "       'location.longitude', 'author.properties.status_count',\n",
       "       'properties.sentiment', 'location.latitude', 'location.country',\n",
       "       'content.body', 'properties.platform'],\n",
       "      dtype='object')"
      ]
     },
     "execution_count": 6,
     "metadata": {},
     "output_type": "execute_result"
    }
   ],
   "source": [
    "txt_data.columns"
   ]
  },
  {
   "cell_type": "code",
   "execution_count": 7,
   "id": "940eefb1",
   "metadata": {},
   "outputs": [
    {
     "data": {
      "text/plain": [
       "(1000, 9)"
      ]
     },
     "execution_count": 7,
     "metadata": {},
     "output_type": "execute_result"
    }
   ],
   "source": [
    "txt_data.shape"
   ]
  },
  {
   "cell_type": "markdown",
   "id": "734286c9",
   "metadata": {},
   "source": [
    "**JSON DATA**"
   ]
  },
  {
   "cell_type": "code",
   "execution_count": 8,
   "id": "b1088232",
   "metadata": {},
   "outputs": [
    {
     "data": {
      "text/plain": [
       "{'author': {'properties': {'friends': 150,\n",
       "   'verified': False,\n",
       "   'status_count': 583}},\n",
       " 'location': {'longitude': -1.4496120000000003,\n",
       "  'country': 'GB',\n",
       "  'latitude': 53.38322877572023},\n",
       " 'content': {'body': \"To everyone tryin to snapchat me fuck off I'm ugly\"},\n",
       " 'properties': {'sentiment': -1, 'platform': 'twitter'}}"
      ]
     },
     "execution_count": 8,
     "metadata": {},
     "output_type": "execute_result"
    }
   ],
   "source": [
    "json_data = get_data(json_file_path)\n",
    "json_data[0]"
   ]
  },
  {
   "cell_type": "code",
   "execution_count": 11,
   "id": "403125a2",
   "metadata": {},
   "outputs": [
    {
     "data": {
      "text/html": [
       "<div>\n",
       "<style scoped>\n",
       "    .dataframe tbody tr th:only-of-type {\n",
       "        vertical-align: middle;\n",
       "    }\n",
       "\n",
       "    .dataframe tbody tr th {\n",
       "        vertical-align: top;\n",
       "    }\n",
       "\n",
       "    .dataframe thead th {\n",
       "        text-align: right;\n",
       "    }\n",
       "</style>\n",
       "<table border=\"1\" class=\"dataframe\">\n",
       "  <thead>\n",
       "    <tr style=\"text-align: right;\">\n",
       "      <th></th>\n",
       "      <th>author.properties.friends</th>\n",
       "      <th>author.properties.verified</th>\n",
       "      <th>author.properties.status_count</th>\n",
       "      <th>location.longitude</th>\n",
       "      <th>location.country</th>\n",
       "      <th>location.latitude</th>\n",
       "      <th>content.body</th>\n",
       "      <th>properties.sentiment</th>\n",
       "      <th>properties.platform</th>\n",
       "    </tr>\n",
       "  </thead>\n",
       "  <tbody>\n",
       "    <tr>\n",
       "      <th>142</th>\n",
       "      <td>243</td>\n",
       "      <td>False</td>\n",
       "      <td>13893</td>\n",
       "      <td>-1.22</td>\n",
       "      <td>GB</td>\n",
       "      <td>54.68</td>\n",
       "      <td>revenge is my favourite thing ever</td>\n",
       "      <td>1</td>\n",
       "      <td>twitter</td>\n",
       "    </tr>\n",
       "    <tr>\n",
       "      <th>540</th>\n",
       "      <td>190</td>\n",
       "      <td>False</td>\n",
       "      <td>72642</td>\n",
       "      <td>0.08</td>\n",
       "      <td>GB</td>\n",
       "      <td>51.59</td>\n",
       "      <td>https://t.co/ifcepAnfbr</td>\n",
       "      <td>0</td>\n",
       "      <td>twitter</td>\n",
       "    </tr>\n",
       "  </tbody>\n",
       "</table>\n",
       "</div>"
      ],
      "text/plain": [
       "     author.properties.friends  author.properties.verified  \\\n",
       "142                        243                       False   \n",
       "540                        190                       False   \n",
       "\n",
       "     author.properties.status_count  location.longitude location.country  \\\n",
       "142                           13893               -1.22               GB   \n",
       "540                           72642                0.08               GB   \n",
       "\n",
       "     location.latitude                        content.body  \\\n",
       "142              54.68  revenge is my favourite thing ever   \n",
       "540              51.59             https://t.co/ifcepAnfbr   \n",
       "\n",
       "     properties.sentiment properties.platform  \n",
       "142                     1             twitter  \n",
       "540                     0             twitter  "
      ]
     },
     "execution_count": 11,
     "metadata": {},
     "output_type": "execute_result"
    }
   ],
   "source": [
    "json_data_normalized = pd.json_normalize(json_data)\n",
    "json_data_normalized.sample(2)"
   ]
  },
  {
   "cell_type": "code",
   "execution_count": 12,
   "id": "6294ce04",
   "metadata": {},
   "outputs": [
    {
     "data": {
      "text/plain": [
       "(1000, 9)"
      ]
     },
     "execution_count": 12,
     "metadata": {},
     "output_type": "execute_result"
    }
   ],
   "source": [
    "json_data_normalized.shape"
   ]
  },
  {
   "cell_type": "markdown",
   "id": "42071ac4",
   "metadata": {},
   "source": [
    "### Collating the CSV and TXT files together"
   ]
  },
  {
   "cell_type": "code",
   "execution_count": 13,
   "id": "7151131b",
   "metadata": {},
   "outputs": [],
   "source": [
    "csv_txt_combined = pd.concat([csv_data, txt_data])"
   ]
  },
  {
   "cell_type": "code",
   "execution_count": 14,
   "id": "fccd80a2",
   "metadata": {},
   "outputs": [
    {
     "data": {
      "text/plain": [
       "(2000, 9)"
      ]
     },
     "execution_count": 14,
     "metadata": {},
     "output_type": "execute_result"
    }
   ],
   "source": [
    "csv_txt_combined.shape"
   ]
  },
  {
   "cell_type": "code",
   "execution_count": 15,
   "id": "e3280e50",
   "metadata": {},
   "outputs": [
    {
     "data": {
      "text/html": [
       "<div>\n",
       "<style scoped>\n",
       "    .dataframe tbody tr th:only-of-type {\n",
       "        vertical-align: middle;\n",
       "    }\n",
       "\n",
       "    .dataframe tbody tr th {\n",
       "        vertical-align: top;\n",
       "    }\n",
       "\n",
       "    .dataframe thead th {\n",
       "        text-align: right;\n",
       "    }\n",
       "</style>\n",
       "<table border=\"1\" class=\"dataframe\">\n",
       "  <thead>\n",
       "    <tr style=\"text-align: right;\">\n",
       "      <th></th>\n",
       "      <th>author.properties.friends</th>\n",
       "      <th>author.properties.status_count</th>\n",
       "      <th>author.properties.verified</th>\n",
       "      <th>content.body</th>\n",
       "      <th>location.country</th>\n",
       "      <th>properties.platform</th>\n",
       "      <th>properties.sentiment</th>\n",
       "      <th>location.latitude</th>\n",
       "      <th>location.longitude</th>\n",
       "    </tr>\n",
       "  </thead>\n",
       "  <tbody>\n",
       "    <tr>\n",
       "      <th>998</th>\n",
       "      <td>2445</td>\n",
       "      <td>3848.00</td>\n",
       "      <td>False</td>\n",
       "      <td>Spent half my childhood watching music channels, never felt so nostalgic ahaha</td>\n",
       "      <td>GB</td>\n",
       "      <td>twitter</td>\n",
       "      <td>-1.00</td>\n",
       "      <td>51.18</td>\n",
       "      <td>-0.61</td>\n",
       "    </tr>\n",
       "    <tr>\n",
       "      <th>999</th>\n",
       "      <td>253</td>\n",
       "      <td>38802.00</td>\n",
       "      <td>False</td>\n",
       "      <td>Who is responsible for this because same https://t.co/L5q648stp4</td>\n",
       "      <td>GB</td>\n",
       "      <td>twitter</td>\n",
       "      <td>-1.00</td>\n",
       "      <td>52.63</td>\n",
       "      <td>-1.13</td>\n",
       "    </tr>\n",
       "    <tr>\n",
       "      <th>0</th>\n",
       "      <td>632</td>\n",
       "      <td>106490.00</td>\n",
       "      <td>False</td>\n",
       "      <td>@moel_bryn https://t.co/qvz1bI2Utb</td>\n",
       "      <td>GB</td>\n",
       "      <td>twitter</td>\n",
       "      <td>0.00</td>\n",
       "      <td>52.12</td>\n",
       "      <td>-2.32</td>\n",
       "    </tr>\n",
       "    <tr>\n",
       "      <th>1</th>\n",
       "      <td>278</td>\n",
       "      <td>31467.00</td>\n",
       "      <td>False</td>\n",
       "      <td>Who wants to rap battle with me on stream tomorrow 👀</td>\n",
       "      <td>GB</td>\n",
       "      <td>twitter</td>\n",
       "      <td>-1.00</td>\n",
       "      <td>51.60</td>\n",
       "      <td>-0.34</td>\n",
       "    </tr>\n",
       "  </tbody>\n",
       "</table>\n",
       "</div>"
      ],
      "text/plain": [
       "    author.properties.friends  author.properties.status_count  \\\n",
       "998                      2445                         3848.00   \n",
       "999                       253                        38802.00   \n",
       "0                         632                       106490.00   \n",
       "1                         278                        31467.00   \n",
       "\n",
       "    author.properties.verified  \\\n",
       "998                      False   \n",
       "999                      False   \n",
       "0                        False   \n",
       "1                        False   \n",
       "\n",
       "                                                                       content.body  \\\n",
       "998  Spent half my childhood watching music channels, never felt so nostalgic ahaha   \n",
       "999                Who is responsible for this because same https://t.co/L5q648stp4   \n",
       "0                                                @moel_bryn https://t.co/qvz1bI2Utb   \n",
       "1                              Who wants to rap battle with me on stream tomorrow 👀   \n",
       "\n",
       "    location.country properties.platform  properties.sentiment  \\\n",
       "998               GB             twitter                 -1.00   \n",
       "999               GB             twitter                 -1.00   \n",
       "0                 GB             twitter                  0.00   \n",
       "1                 GB             twitter                 -1.00   \n",
       "\n",
       "     location.latitude  location.longitude  \n",
       "998              51.18               -0.61  \n",
       "999              52.63               -1.13  \n",
       "0                52.12               -2.32  \n",
       "1                51.60               -0.34  "
      ]
     },
     "execution_count": 15,
     "metadata": {},
     "output_type": "execute_result"
    }
   ],
   "source": [
    "csv_txt_combined[998:1002]"
   ]
  },
  {
   "cell_type": "code",
   "execution_count": 16,
   "id": "5886062a",
   "metadata": {},
   "outputs": [
    {
     "data": {
      "text/plain": [
       "Index(['author.properties.friends', 'author.properties.status_count',\n",
       "       'author.properties.verified', 'content.body', 'location.country',\n",
       "       'properties.platform', 'properties.sentiment', 'location.latitude',\n",
       "       'location.longitude'],\n",
       "      dtype='object')"
      ]
     },
     "execution_count": 16,
     "metadata": {},
     "output_type": "execute_result"
    }
   ],
   "source": [
    "csv_txt_combined.columns"
   ]
  },
  {
   "cell_type": "markdown",
   "id": "efdda2eb",
   "metadata": {},
   "source": [
    "### Collating the CSV, TXT and JSON files together"
   ]
  },
  {
   "cell_type": "code",
   "execution_count": 17,
   "id": "d725b5ad",
   "metadata": {},
   "outputs": [
    {
     "data": {
      "text/plain": [
       "(3000, 9)"
      ]
     },
     "execution_count": 17,
     "metadata": {},
     "output_type": "execute_result"
    }
   ],
   "source": [
    "csv_txt_json_combined = pd.concat([csv_txt_combined, json_data_normalized])\n",
    "csv_txt_json_combined.shape"
   ]
  },
  {
   "cell_type": "code",
   "execution_count": 20,
   "id": "34fa058f",
   "metadata": {},
   "outputs": [
    {
     "data": {
      "text/plain": [
       "-1.00    1403\n",
       "0.00      968\n",
       "1.00      628\n",
       "Name: properties.sentiment, dtype: int64"
      ]
     },
     "execution_count": 20,
     "metadata": {},
     "output_type": "execute_result"
    }
   ],
   "source": [
    "csv_txt_json_combined[\"properties.sentiment\"].value_counts()"
   ]
  },
  {
   "cell_type": "code",
   "execution_count": 21,
   "id": "7047e14e",
   "metadata": {},
   "outputs": [
    {
     "data": {
      "text/plain": [
       "2999"
      ]
     },
     "execution_count": 21,
     "metadata": {},
     "output_type": "execute_result"
    }
   ],
   "source": [
    "1403 + 968 + 628"
   ]
  },
  {
   "cell_type": "code",
   "execution_count": null,
   "id": "1c6f4994",
   "metadata": {},
   "outputs": [],
   "source": []
  }
 ],
 "metadata": {
  "kernelspec": {
   "display_name": "Python 3 (ipykernel)",
   "language": "python",
   "name": "python3"
  },
  "language_info": {
   "codemirror_mode": {
    "name": "ipython",
    "version": 3
   },
   "file_extension": ".py",
   "mimetype": "text/x-python",
   "name": "python",
   "nbconvert_exporter": "python",
   "pygments_lexer": "ipython3",
   "version": "3.8.16"
  }
 },
 "nbformat": 4,
 "nbformat_minor": 5
}
