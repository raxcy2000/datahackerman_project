{
 "cells": [
  {
   "cell_type": "markdown",
   "id": "0bf4b662",
   "metadata": {},
   "source": [
    "## DATA HACKERMAN FINAL PROJECT"
   ]
  },
  {
   "cell_type": "markdown",
   "id": "db2ed5da",
   "metadata": {},
   "source": [
    "### _API Access_"
   ]
  },
  {
   "cell_type": "markdown",
   "id": "dc8151d4",
   "metadata": {},
   "source": [
    "The API in question provides information on Game of Thrones, allowing one to access information on the **houses**, **characters** and **books**.\n",
    "\n",
    "API URL : http://anapioficeandfire.com/api/{SECTION}/{INDEX}\n",
    "\n",
    "- **SECTION** can be either 'books', 'characters', or 'houses'\n",
    "- **INDEX** is an integer to a certain entry in a section"
   ]
  },
  {
   "cell_type": "markdown",
   "id": "fa66c2cb",
   "metadata": {},
   "source": [
    "`Import necessary modules and format notebook`"
   ]
  },
  {
   "cell_type": "code",
   "execution_count": 1,
   "id": "e7545601",
   "metadata": {},
   "outputs": [
    {
     "data": {
      "text/html": [
       "<style>.container { width:100% !important; }</style>"
      ],
      "text/plain": [
       "<IPython.core.display.HTML object>"
      ]
     },
     "metadata": {},
     "output_type": "display_data"
    }
   ],
   "source": [
    "import pandas as pd\n",
    "import json\n",
    "\n",
    "import requests\n",
    "\n",
    "pd.set_option(\"display.max_columns\", None)\n",
    "pd.set_option(\"display.max_rows\", None)\n",
    "pd.options.display.max_colwidth = None\n",
    "pd.set_option(\"display.float_format\", lambda x: '%.2f' % x)\n",
    "\n",
    "from IPython.display import display, HTML\n",
    "display(HTML(\"<style>.container { width:100% !important; }</style>\"))"
   ]
  },
  {
   "cell_type": "markdown",
   "id": "aff58c6a",
   "metadata": {},
   "source": [
    "`Available APIs`"
   ]
  },
  {
   "cell_type": "code",
   "execution_count": 2,
   "id": "095da245",
   "metadata": {},
   "outputs": [
    {
     "data": {
      "text/plain": [
       "{'books': 'https://anapioficeandfire.com/api/books',\n",
       " 'characters': 'https://anapioficeandfire.com/api/characters',\n",
       " 'houses': 'https://anapioficeandfire.com/api/houses'}"
      ]
     },
     "execution_count": 2,
     "metadata": {},
     "output_type": "execute_result"
    }
   ],
   "source": [
    "url_api = \"http://anapioficeandfire.com/api/\"\n",
    "apis = requests.get(url_api).json()\n",
    "apis"
   ]
  },
  {
   "cell_type": "markdown",
   "id": "83870a51",
   "metadata": {},
   "source": [
    "## Questions"
   ]
  },
  {
   "cell_type": "markdown",
   "id": "7dcb932a",
   "metadata": {},
   "source": [
    "#### a) What index corresponds to the house \"House Breakstone\"?"
   ]
  },
  {
   "cell_type": "code",
   "execution_count": 3,
   "id": "4adf0bbf",
   "metadata": {},
   "outputs": [],
   "source": [
    "unique_house = \"House Breakstone\"\n",
    "query_param_house = {\"name\": unique_house}\n",
    "house_url = \"http://anapioficeandfire.com/api/houses\""
   ]
  },
  {
   "cell_type": "code",
   "execution_count": 4,
   "id": "b580f437",
   "metadata": {},
   "outputs": [
    {
     "data": {
      "text/plain": [
       "[{'url': 'https://anapioficeandfire.com/api/houses/41',\n",
       "  'name': 'House Breakstone',\n",
       "  'region': 'The Vale',\n",
       "  'coatOfArms': 'A red sledge',\n",
       "  'words': '',\n",
       "  'titles': [''],\n",
       "  'seats': [''],\n",
       "  'currentLord': '',\n",
       "  'heir': '',\n",
       "  'overlord': '',\n",
       "  'founded': '',\n",
       "  'founder': '',\n",
       "  'diedOut': '',\n",
       "  'ancestralWeapons': [''],\n",
       "  'cadetBranches': [],\n",
       "  'swornMembers': []}]"
      ]
     },
     "execution_count": 4,
     "metadata": {},
     "output_type": "execute_result"
    }
   ],
   "source": [
    "unique_house_result = requests.get(house_url, query_param_house).json()\n",
    "unique_house_result"
   ]
  },
  {
   "cell_type": "code",
   "execution_count": 5,
   "id": "833f7363",
   "metadata": {},
   "outputs": [],
   "source": [
    "index_of_house = unique_house_result[0][\"url\"].split(\"/\")[-1]"
   ]
  },
  {
   "cell_type": "code",
   "execution_count": 6,
   "id": "a3ed1c78",
   "metadata": {},
   "outputs": [
    {
     "data": {
      "text/plain": [
       "'41 is the index of House Breakstone'"
      ]
     },
     "execution_count": 6,
     "metadata": {},
     "output_type": "execute_result"
    }
   ],
   "source": [
    "f\"{index_of_house} is the index of {unique_house}\""
   ]
  },
  {
   "cell_type": "markdown",
   "id": "9ccc9e98",
   "metadata": {},
   "source": [
    "<br>"
   ]
  },
  {
   "cell_type": "markdown",
   "id": "26b8abb8",
   "metadata": {},
   "source": [
    "#### b) How many males, females and unknown genders are there in the first 40 characters? Note, index 0 does not correspond to a character, so full range is 1 - 40 both ends inclusive."
   ]
  },
  {
   "cell_type": "code",
   "execution_count": 7,
   "id": "c3294c09",
   "metadata": {},
   "outputs": [],
   "source": [
    "num_of_chars = \"40\"\n",
    "query_params_char = {\"pageSize\": num_of_chars}\n",
    "char_url = \"http://anapioficeandfire.com/api/characters\""
   ]
  },
  {
   "cell_type": "code",
   "execution_count": 8,
   "id": "7c7c7a19",
   "metadata": {},
   "outputs": [],
   "source": [
    "chars = requests.get(char_url, query_params_char).json()\n",
    "selected_chars = pd.DataFrame(chars)\n",
    "#selected_chars.head()"
   ]
  },
  {
   "cell_type": "code",
   "execution_count": 9,
   "id": "9aea23bc",
   "metadata": {},
   "outputs": [
    {
     "name": "stdout",
     "output_type": "stream",
     "text": [
      "Number of males, females and unknown genders in 40 characters are: \n"
     ]
    },
    {
     "data": {
      "text/plain": [
       "Male      26\n",
       "Female    14\n",
       "Name: gender, dtype: int64"
      ]
     },
     "execution_count": 9,
     "metadata": {},
     "output_type": "execute_result"
    }
   ],
   "source": [
    "print(f\"Number of males, females and unknown genders in {num_of_chars} characters are: \")\n",
    "selected_chars[\"gender\"].value_counts()"
   ]
  },
  {
   "cell_type": "markdown",
   "id": "4a003d84",
   "metadata": {},
   "source": [
    "<br>"
   ]
  },
  {
   "cell_type": "markdown",
   "id": "2b8f60f1",
   "metadata": {},
   "source": [
    "#### c) How many books can be accessed from this API?"
   ]
  },
  {
   "cell_type": "code",
   "execution_count": 10,
   "id": "0e1eaab6",
   "metadata": {},
   "outputs": [],
   "source": [
    "query_params_books = {\"pageSize\": \"50\"} #50 is the maximum pagesize \n",
    "book_url = \"http://anapioficeandfire.com/api/books\""
   ]
  },
  {
   "cell_type": "code",
   "execution_count": 11,
   "id": "f06e657e",
   "metadata": {},
   "outputs": [],
   "source": [
    "books = requests.get(book_url, query_params_books).json()"
   ]
  },
  {
   "cell_type": "code",
   "execution_count": 12,
   "id": "1f514117",
   "metadata": {},
   "outputs": [
    {
     "data": {
      "text/plain": [
       "'12 books can be accessed from this API'"
      ]
     },
     "execution_count": 12,
     "metadata": {},
     "output_type": "execute_result"
    }
   ],
   "source": [
    "f\"{len(books)} books can be accessed from this API\""
   ]
  },
  {
   "cell_type": "markdown",
   "id": "e0912003",
   "metadata": {},
   "source": [
    "<br>"
   ]
  },
  {
   "cell_type": "markdown",
   "id": "d5c8565d",
   "metadata": {},
   "source": [
    "#### d) How many books does the character 'High Septon' appear in? (ignoring 'povcharacters') "
   ]
  },
  {
   "cell_type": "code",
   "execution_count": 13,
   "id": "a0aa70a8",
   "metadata": {},
   "outputs": [],
   "source": [
    "unique_char = \"High Septon\"\n",
    "query_params_char = {\"name\": unique_char}#, \"pageSize\": \"50\"}\n",
    "char_url = \"http://anapioficeandfire.com/api/characters\""
   ]
  },
  {
   "cell_type": "code",
   "execution_count": 14,
   "id": "92135281",
   "metadata": {},
   "outputs": [
    {
     "data": {
      "text/plain": [
       "[{'url': 'https://anapioficeandfire.com/api/characters/15',\n",
       "  'name': 'High Septon',\n",
       "  'gender': 'Male',\n",
       "  'culture': '',\n",
       "  'born': '',\n",
       "  'died': '',\n",
       "  'titles': ['High Septon',\n",
       "   'His High Holiness',\n",
       "   'Father of the Faithful',\n",
       "   'Voice of the Seven on Earth'],\n",
       "  'aliases': ['The High Sparrow'],\n",
       "  'father': '',\n",
       "  'mother': '',\n",
       "  'spouse': '',\n",
       "  'allegiances': [],\n",
       "  'books': ['https://anapioficeandfire.com/api/books/5',\n",
       "   'https://anapioficeandfire.com/api/books/8'],\n",
       "  'povBooks': [],\n",
       "  'tvSeries': ['Season 5', 'Season 6'],\n",
       "  'playedBy': ['Jonathan Pryce']}]"
      ]
     },
     "execution_count": 14,
     "metadata": {},
     "output_type": "execute_result"
    }
   ],
   "source": [
    "unique_char_result = requests.get(char_url, query_params_char).json()\n",
    "unique_char_result"
   ]
  },
  {
   "cell_type": "code",
   "execution_count": 15,
   "id": "586dd066",
   "metadata": {},
   "outputs": [],
   "source": [
    "list_of_books = []\n",
    "for i in range(len(books)):\n",
    "    for unique_char in books[i][\"characters\"]:\n",
    "        if unique_char_result[0][\"url\"] in unique_char:\n",
    "            list_of_books.append(books[i][\"name\"])\n"
   ]
  },
  {
   "cell_type": "code",
   "execution_count": 16,
   "id": "5879572a",
   "metadata": {},
   "outputs": [
    {
     "data": {
      "text/plain": [
       "\"The character 'High Septon' appear in 10 books\""
      ]
     },
     "execution_count": 16,
     "metadata": {},
     "output_type": "execute_result"
    }
   ],
   "source": [
    "f\"The character 'High Septon' appear in {len(set(list_of_books))} books\""
   ]
  },
  {
   "cell_type": "markdown",
   "id": "47b7525f",
   "metadata": {},
   "source": [
    "<br>"
   ]
  }
 ],
 "metadata": {
  "kernelspec": {
   "display_name": "Python 3 (ipykernel)",
   "language": "python",
   "name": "python3"
  },
  "language_info": {
   "codemirror_mode": {
    "name": "ipython",
    "version": 3
   },
   "file_extension": ".py",
   "mimetype": "text/x-python",
   "name": "python",
   "nbconvert_exporter": "python",
   "pygments_lexer": "ipython3",
   "version": "3.8.16"
  }
 },
 "nbformat": 4,
 "nbformat_minor": 5
}
